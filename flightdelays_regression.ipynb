{
 "cells": [
  {
   "cell_type": "code",
   "execution_count": 1,
   "metadata": {},
   "outputs": [],
   "source": [
    "import pandas as pd\n",
    "import numpy as np\n",
    "import pickle\n",
    "import os\n",
    "\n",
    "import seaborn as sns\n",
    "import matplotlib.pyplot as plt\n",
    "%matplotlib inline\n",
    "from csv import reader, writer\n",
    "from datetime import datetime as dt\n",
    "from scipy import stats\n",
    "\n",
    "from sklearn.model_selection import train_test_split\n",
    "from sklearn.linear_model import LinearRegression, Lasso, LassoCV, Ridge, RidgeCV\n",
    "from sklearn.metrics import r2_score\n",
    "from sklearn.preprocessing import StandardScaler, PolynomialFeatures\n",
    "\n",
    "import statsmodels.api as sm\n",
    "import statsmodels.formula.api as smf "
   ]
  },
  {
   "cell_type": "code",
   "execution_count": 3,
   "metadata": {},
   "outputs": [],
   "source": [
    "os.chdir('data')"
   ]
  },
  {
   "cell_type": "code",
   "execution_count": 4,
   "metadata": {},
   "outputs": [],
   "source": [
    "with open('dummydf.pickle','rb') as read_file:\n",
    "    dummy_df = pickle.load(read_file)"
   ]
  },
  {
   "cell_type": "code",
   "execution_count": 5,
   "metadata": {},
   "outputs": [],
   "source": [
    "dummy_df = pd.concat([dummy_df, pd.get_dummies(dummy_df['month'],prefix='month', drop_first=True)], axis=1)\n",
    "dummy_df = dummy_df.drop('month',axis=1)"
   ]
  },
  {
   "cell_type": "code",
   "execution_count": 6,
   "metadata": {},
   "outputs": [
    {
     "data": {
      "text/html": [
       "<div>\n",
       "<style scoped>\n",
       "    .dataframe tbody tr th:only-of-type {\n",
       "        vertical-align: middle;\n",
       "    }\n",
       "\n",
       "    .dataframe tbody tr th {\n",
       "        vertical-align: top;\n",
       "    }\n",
       "\n",
       "    .dataframe thead th {\n",
       "        text-align: right;\n",
       "    }\n",
       "</style>\n",
       "<table border=\"1\" class=\"dataframe\">\n",
       "  <thead>\n",
       "    <tr style=\"text-align: right;\">\n",
       "      <th></th>\n",
       "      <th>dep_delay</th>\n",
       "      <th>weekday</th>\n",
       "      <th>weekend</th>\n",
       "      <th>hour</th>\n",
       "      <th>carrier_AS</th>\n",
       "      <th>carrier_B6</th>\n",
       "      <th>carrier_DL</th>\n",
       "      <th>carrier_F9</th>\n",
       "      <th>carrier_HA</th>\n",
       "      <th>carrier_OO</th>\n",
       "      <th>...</th>\n",
       "      <th>month_3</th>\n",
       "      <th>month_4</th>\n",
       "      <th>month_5</th>\n",
       "      <th>month_6</th>\n",
       "      <th>month_7</th>\n",
       "      <th>month_8</th>\n",
       "      <th>month_9</th>\n",
       "      <th>month_10</th>\n",
       "      <th>month_11</th>\n",
       "      <th>month_12</th>\n",
       "    </tr>\n",
       "  </thead>\n",
       "  <tbody>\n",
       "    <tr>\n",
       "      <th>0</th>\n",
       "      <td>0.0</td>\n",
       "      <td>7</td>\n",
       "      <td>1</td>\n",
       "      <td>6</td>\n",
       "      <td>0</td>\n",
       "      <td>0</td>\n",
       "      <td>0</td>\n",
       "      <td>0</td>\n",
       "      <td>0</td>\n",
       "      <td>0</td>\n",
       "      <td>...</td>\n",
       "      <td>0</td>\n",
       "      <td>0</td>\n",
       "      <td>0</td>\n",
       "      <td>0</td>\n",
       "      <td>0</td>\n",
       "      <td>0</td>\n",
       "      <td>0</td>\n",
       "      <td>0</td>\n",
       "      <td>0</td>\n",
       "      <td>1</td>\n",
       "    </tr>\n",
       "    <tr>\n",
       "      <th>1</th>\n",
       "      <td>0.0</td>\n",
       "      <td>7</td>\n",
       "      <td>1</td>\n",
       "      <td>8</td>\n",
       "      <td>0</td>\n",
       "      <td>0</td>\n",
       "      <td>0</td>\n",
       "      <td>0</td>\n",
       "      <td>0</td>\n",
       "      <td>0</td>\n",
       "      <td>...</td>\n",
       "      <td>0</td>\n",
       "      <td>0</td>\n",
       "      <td>0</td>\n",
       "      <td>0</td>\n",
       "      <td>0</td>\n",
       "      <td>0</td>\n",
       "      <td>0</td>\n",
       "      <td>0</td>\n",
       "      <td>0</td>\n",
       "      <td>1</td>\n",
       "    </tr>\n",
       "    <tr>\n",
       "      <th>2</th>\n",
       "      <td>27.0</td>\n",
       "      <td>7</td>\n",
       "      <td>1</td>\n",
       "      <td>17</td>\n",
       "      <td>0</td>\n",
       "      <td>0</td>\n",
       "      <td>0</td>\n",
       "      <td>0</td>\n",
       "      <td>0</td>\n",
       "      <td>0</td>\n",
       "      <td>...</td>\n",
       "      <td>0</td>\n",
       "      <td>0</td>\n",
       "      <td>0</td>\n",
       "      <td>0</td>\n",
       "      <td>0</td>\n",
       "      <td>0</td>\n",
       "      <td>0</td>\n",
       "      <td>0</td>\n",
       "      <td>0</td>\n",
       "      <td>1</td>\n",
       "    </tr>\n",
       "    <tr>\n",
       "      <th>4</th>\n",
       "      <td>19.0</td>\n",
       "      <td>7</td>\n",
       "      <td>1</td>\n",
       "      <td>18</td>\n",
       "      <td>0</td>\n",
       "      <td>0</td>\n",
       "      <td>0</td>\n",
       "      <td>0</td>\n",
       "      <td>0</td>\n",
       "      <td>0</td>\n",
       "      <td>...</td>\n",
       "      <td>0</td>\n",
       "      <td>0</td>\n",
       "      <td>0</td>\n",
       "      <td>0</td>\n",
       "      <td>0</td>\n",
       "      <td>0</td>\n",
       "      <td>0</td>\n",
       "      <td>0</td>\n",
       "      <td>0</td>\n",
       "      <td>1</td>\n",
       "    </tr>\n",
       "    <tr>\n",
       "      <th>5</th>\n",
       "      <td>0.0</td>\n",
       "      <td>7</td>\n",
       "      <td>1</td>\n",
       "      <td>5</td>\n",
       "      <td>0</td>\n",
       "      <td>0</td>\n",
       "      <td>0</td>\n",
       "      <td>0</td>\n",
       "      <td>0</td>\n",
       "      <td>0</td>\n",
       "      <td>...</td>\n",
       "      <td>0</td>\n",
       "      <td>0</td>\n",
       "      <td>0</td>\n",
       "      <td>0</td>\n",
       "      <td>0</td>\n",
       "      <td>0</td>\n",
       "      <td>0</td>\n",
       "      <td>0</td>\n",
       "      <td>0</td>\n",
       "      <td>1</td>\n",
       "    </tr>\n",
       "    <tr>\n",
       "      <th>...</th>\n",
       "      <td>...</td>\n",
       "      <td>...</td>\n",
       "      <td>...</td>\n",
       "      <td>...</td>\n",
       "      <td>...</td>\n",
       "      <td>...</td>\n",
       "      <td>...</td>\n",
       "      <td>...</td>\n",
       "      <td>...</td>\n",
       "      <td>...</td>\n",
       "      <td>...</td>\n",
       "      <td>...</td>\n",
       "      <td>...</td>\n",
       "      <td>...</td>\n",
       "      <td>...</td>\n",
       "      <td>...</td>\n",
       "      <td>...</td>\n",
       "      <td>...</td>\n",
       "      <td>...</td>\n",
       "      <td>...</td>\n",
       "      <td>...</td>\n",
       "    </tr>\n",
       "    <tr>\n",
       "      <th>2846798</th>\n",
       "      <td>36.0</td>\n",
       "      <td>7</td>\n",
       "      <td>1</td>\n",
       "      <td>21</td>\n",
       "      <td>0</td>\n",
       "      <td>1</td>\n",
       "      <td>0</td>\n",
       "      <td>0</td>\n",
       "      <td>0</td>\n",
       "      <td>0</td>\n",
       "      <td>...</td>\n",
       "      <td>0</td>\n",
       "      <td>0</td>\n",
       "      <td>0</td>\n",
       "      <td>0</td>\n",
       "      <td>0</td>\n",
       "      <td>0</td>\n",
       "      <td>1</td>\n",
       "      <td>0</td>\n",
       "      <td>0</td>\n",
       "      <td>0</td>\n",
       "    </tr>\n",
       "    <tr>\n",
       "      <th>2846799</th>\n",
       "      <td>1.0</td>\n",
       "      <td>7</td>\n",
       "      <td>1</td>\n",
       "      <td>23</td>\n",
       "      <td>0</td>\n",
       "      <td>1</td>\n",
       "      <td>0</td>\n",
       "      <td>0</td>\n",
       "      <td>0</td>\n",
       "      <td>0</td>\n",
       "      <td>...</td>\n",
       "      <td>0</td>\n",
       "      <td>0</td>\n",
       "      <td>0</td>\n",
       "      <td>0</td>\n",
       "      <td>0</td>\n",
       "      <td>0</td>\n",
       "      <td>1</td>\n",
       "      <td>0</td>\n",
       "      <td>0</td>\n",
       "      <td>0</td>\n",
       "    </tr>\n",
       "    <tr>\n",
       "      <th>2846804</th>\n",
       "      <td>0.0</td>\n",
       "      <td>7</td>\n",
       "      <td>1</td>\n",
       "      <td>17</td>\n",
       "      <td>0</td>\n",
       "      <td>1</td>\n",
       "      <td>0</td>\n",
       "      <td>0</td>\n",
       "      <td>0</td>\n",
       "      <td>0</td>\n",
       "      <td>...</td>\n",
       "      <td>0</td>\n",
       "      <td>0</td>\n",
       "      <td>0</td>\n",
       "      <td>0</td>\n",
       "      <td>0</td>\n",
       "      <td>0</td>\n",
       "      <td>1</td>\n",
       "      <td>0</td>\n",
       "      <td>0</td>\n",
       "      <td>0</td>\n",
       "    </tr>\n",
       "    <tr>\n",
       "      <th>2846810</th>\n",
       "      <td>0.0</td>\n",
       "      <td>7</td>\n",
       "      <td>1</td>\n",
       "      <td>18</td>\n",
       "      <td>0</td>\n",
       "      <td>1</td>\n",
       "      <td>0</td>\n",
       "      <td>0</td>\n",
       "      <td>0</td>\n",
       "      <td>0</td>\n",
       "      <td>...</td>\n",
       "      <td>0</td>\n",
       "      <td>0</td>\n",
       "      <td>0</td>\n",
       "      <td>0</td>\n",
       "      <td>0</td>\n",
       "      <td>0</td>\n",
       "      <td>1</td>\n",
       "      <td>0</td>\n",
       "      <td>0</td>\n",
       "      <td>0</td>\n",
       "    </tr>\n",
       "    <tr>\n",
       "      <th>2846812</th>\n",
       "      <td>10.0</td>\n",
       "      <td>7</td>\n",
       "      <td>1</td>\n",
       "      <td>0</td>\n",
       "      <td>0</td>\n",
       "      <td>1</td>\n",
       "      <td>0</td>\n",
       "      <td>0</td>\n",
       "      <td>0</td>\n",
       "      <td>0</td>\n",
       "      <td>...</td>\n",
       "      <td>0</td>\n",
       "      <td>0</td>\n",
       "      <td>0</td>\n",
       "      <td>0</td>\n",
       "      <td>0</td>\n",
       "      <td>0</td>\n",
       "      <td>1</td>\n",
       "      <td>0</td>\n",
       "      <td>0</td>\n",
       "      <td>0</td>\n",
       "    </tr>\n",
       "  </tbody>\n",
       "</table>\n",
       "<p>464235 rows × 31 columns</p>\n",
       "</div>"
      ],
      "text/plain": [
       "         dep_delay  weekday  weekend  hour  carrier_AS  carrier_B6  \\\n",
       "0              0.0        7        1     6           0           0   \n",
       "1              0.0        7        1     8           0           0   \n",
       "2             27.0        7        1    17           0           0   \n",
       "4             19.0        7        1    18           0           0   \n",
       "5              0.0        7        1     5           0           0   \n",
       "...            ...      ...      ...   ...         ...         ...   \n",
       "2846798       36.0        7        1    21           0           1   \n",
       "2846799        1.0        7        1    23           0           1   \n",
       "2846804        0.0        7        1    17           0           1   \n",
       "2846810        0.0        7        1    18           0           1   \n",
       "2846812       10.0        7        1     0           0           1   \n",
       "\n",
       "         carrier_DL  carrier_F9  carrier_HA  carrier_OO  ...  month_3  \\\n",
       "0                 0           0           0           0  ...        0   \n",
       "1                 0           0           0           0  ...        0   \n",
       "2                 0           0           0           0  ...        0   \n",
       "4                 0           0           0           0  ...        0   \n",
       "5                 0           0           0           0  ...        0   \n",
       "...             ...         ...         ...         ...  ...      ...   \n",
       "2846798           0           0           0           0  ...        0   \n",
       "2846799           0           0           0           0  ...        0   \n",
       "2846804           0           0           0           0  ...        0   \n",
       "2846810           0           0           0           0  ...        0   \n",
       "2846812           0           0           0           0  ...        0   \n",
       "\n",
       "         month_4  month_5  month_6  month_7  month_8  month_9  month_10  \\\n",
       "0              0        0        0        0        0        0         0   \n",
       "1              0        0        0        0        0        0         0   \n",
       "2              0        0        0        0        0        0         0   \n",
       "4              0        0        0        0        0        0         0   \n",
       "5              0        0        0        0        0        0         0   \n",
       "...          ...      ...      ...      ...      ...      ...       ...   \n",
       "2846798        0        0        0        0        0        1         0   \n",
       "2846799        0        0        0        0        0        1         0   \n",
       "2846804        0        0        0        0        0        1         0   \n",
       "2846810        0        0        0        0        0        1         0   \n",
       "2846812        0        0        0        0        0        1         0   \n",
       "\n",
       "         month_11  month_12  \n",
       "0               0         1  \n",
       "1               0         1  \n",
       "2               0         1  \n",
       "4               0         1  \n",
       "5               0         1  \n",
       "...           ...       ...  \n",
       "2846798         0         0  \n",
       "2846799         0         0  \n",
       "2846804         0         0  \n",
       "2846810         0         0  \n",
       "2846812         0         0  \n",
       "\n",
       "[464235 rows x 31 columns]"
      ]
     },
     "execution_count": 6,
     "metadata": {},
     "output_type": "execute_result"
    }
   ],
   "source": [
    "dummy_df"
   ]
  },
  {
   "cell_type": "markdown",
   "metadata": {},
   "source": [
    "# Train Test Split"
   ]
  },
  {
   "cell_type": "code",
   "execution_count": 7,
   "metadata": {},
   "outputs": [],
   "source": [
    "X, y = dummy_df.drop(['dep_delay','weekday'],axis=1), dummy_df['dep_delay']\n",
    "#Split the data 60 - 20 - 20 train/val/test\n",
    "X_train_val, X_test, y_train_val, y_test = train_test_split(X, y, test_size=0.2,random_state=42)\n",
    "X_train, X_val, y_train, y_val = train_test_split(X_train_val, y_train_val, test_size=.25, random_state=43)"
   ]
  },
  {
   "cell_type": "markdown",
   "metadata": {},
   "source": [
    "# Regression Modeling"
   ]
  },
  {
   "cell_type": "code",
   "execution_count": 8,
   "metadata": {},
   "outputs": [
    {
     "name": "stderr",
     "output_type": "stream",
     "text": [
      "/Users/KC/miniconda3/envs/metis/lib/python3.7/site-packages/numpy/core/fromnumeric.py:2495: FutureWarning: Method .ptp is deprecated and will be removed in a future version. Use numpy.ptp instead.\n",
      "  return ptp(axis=axis, out=out, **kwargs)\n"
     ]
    },
    {
     "data": {
      "text/html": [
       "<table class=\"simpletable\">\n",
       "<caption>OLS Regression Results</caption>\n",
       "<tr>\n",
       "  <th>Dep. Variable:</th>        <td>dep_delay</td>    <th>  R-squared:         </th>  <td>   0.016</td>  \n",
       "</tr>\n",
       "<tr>\n",
       "  <th>Model:</th>                   <td>OLS</td>       <th>  Adj. R-squared:    </th>  <td>   0.016</td>  \n",
       "</tr>\n",
       "<tr>\n",
       "  <th>Method:</th>             <td>Least Squares</td>  <th>  F-statistic:       </th>  <td>   163.9</td>  \n",
       "</tr>\n",
       "<tr>\n",
       "  <th>Date:</th>             <td>Thu, 23 Jan 2020</td> <th>  Prob (F-statistic):</th>   <td>  0.00</td>   \n",
       "</tr>\n",
       "<tr>\n",
       "  <th>Time:</th>                 <td>21:06:37</td>     <th>  Log-Likelihood:    </th> <td>-1.4061e+06</td>\n",
       "</tr>\n",
       "<tr>\n",
       "  <th>No. Observations:</th>      <td>278541</td>      <th>  AIC:               </th>  <td>2.812e+06</td> \n",
       "</tr>\n",
       "<tr>\n",
       "  <th>Df Residuals:</th>          <td>278512</td>      <th>  BIC:               </th>  <td>2.813e+06</td> \n",
       "</tr>\n",
       "<tr>\n",
       "  <th>Df Model:</th>              <td>    28</td>      <th>                     </th>      <td> </td>     \n",
       "</tr>\n",
       "<tr>\n",
       "  <th>Covariance Type:</th>      <td>nonrobust</td>    <th>                     </th>      <td> </td>     \n",
       "</tr>\n",
       "</table>\n",
       "<table class=\"simpletable\">\n",
       "<tr>\n",
       "             <td></td>               <th>coef</th>     <th>std err</th>      <th>t</th>      <th>P>|t|</th>  <th>[0.025</th>    <th>0.975]</th>  \n",
       "</tr>\n",
       "<tr>\n",
       "  <th>const</th>                  <td>    4.2346</td> <td>    0.407</td> <td>   10.402</td> <td> 0.000</td> <td>    3.437</td> <td>    5.032</td>\n",
       "</tr>\n",
       "<tr>\n",
       "  <th>weekend</th>                <td>   -2.3443</td> <td>    0.155</td> <td>  -15.172</td> <td> 0.000</td> <td>   -2.647</td> <td>   -2.041</td>\n",
       "</tr>\n",
       "<tr>\n",
       "  <th>hour</th>                   <td>    0.5878</td> <td>    0.013</td> <td>   44.280</td> <td> 0.000</td> <td>    0.562</td> <td>    0.614</td>\n",
       "</tr>\n",
       "<tr>\n",
       "  <th>carrier_AS</th>             <td>   -2.3081</td> <td>    0.298</td> <td>   -7.744</td> <td> 0.000</td> <td>   -2.892</td> <td>   -1.724</td>\n",
       "</tr>\n",
       "<tr>\n",
       "  <th>carrier_B6</th>             <td>    3.0265</td> <td>    0.446</td> <td>    6.790</td> <td> 0.000</td> <td>    2.153</td> <td>    3.900</td>\n",
       "</tr>\n",
       "<tr>\n",
       "  <th>carrier_DL</th>             <td>   -1.2241</td> <td>    0.282</td> <td>   -4.342</td> <td> 0.000</td> <td>   -1.777</td> <td>   -0.672</td>\n",
       "</tr>\n",
       "<tr>\n",
       "  <th>carrier_F9</th>             <td>   15.1656</td> <td>    0.869</td> <td>   17.454</td> <td> 0.000</td> <td>   13.463</td> <td>   16.869</td>\n",
       "</tr>\n",
       "<tr>\n",
       "  <th>carrier_HA</th>             <td>    2.9754</td> <td>    0.803</td> <td>    3.707</td> <td> 0.000</td> <td>    1.402</td> <td>    4.549</td>\n",
       "</tr>\n",
       "<tr>\n",
       "  <th>carrier_OO</th>             <td>   -0.3721</td> <td>    0.263</td> <td>   -1.416</td> <td> 0.157</td> <td>   -0.887</td> <td>    0.143</td>\n",
       "</tr>\n",
       "<tr>\n",
       "  <th>carrier_UA</th>             <td>   -1.6916</td> <td>    0.258</td> <td>   -6.552</td> <td> 0.000</td> <td>   -2.198</td> <td>   -1.186</td>\n",
       "</tr>\n",
       "<tr>\n",
       "  <th>carrier_WN</th>             <td>    2.5484</td> <td>    0.258</td> <td>    9.859</td> <td> 0.000</td> <td>    2.042</td> <td>    3.055</td>\n",
       "</tr>\n",
       "<tr>\n",
       "  <th>origin_SFO</th>             <td>    3.6350</td> <td>    0.163</td> <td>   22.368</td> <td> 0.000</td> <td>    3.316</td> <td>    3.953</td>\n",
       "</tr>\n",
       "<tr>\n",
       "  <th>origin_SJC</th>             <td>   -2.4919</td> <td>    0.237</td> <td>  -10.535</td> <td> 0.000</td> <td>   -2.956</td> <td>   -2.028</td>\n",
       "</tr>\n",
       "<tr>\n",
       "  <th>weekday_name_Monday</th>    <td>   -2.3123</td> <td>    0.261</td> <td>   -8.856</td> <td> 0.000</td> <td>   -2.824</td> <td>   -1.801</td>\n",
       "</tr>\n",
       "<tr>\n",
       "  <th>weekday_name_Saturday</th>  <td>   -1.9563</td> <td>    0.162</td> <td>  -12.097</td> <td> 0.000</td> <td>   -2.273</td> <td>   -1.639</td>\n",
       "</tr>\n",
       "<tr>\n",
       "  <th>weekday_name_Sunday</th>    <td>   -0.3880</td> <td>    0.156</td> <td>   -2.492</td> <td> 0.013</td> <td>   -0.693</td> <td>   -0.083</td>\n",
       "</tr>\n",
       "<tr>\n",
       "  <th>weekday_name_Thursday</th>  <td>   -0.3413</td> <td>    0.263</td> <td>   -1.297</td> <td> 0.195</td> <td>   -0.857</td> <td>    0.175</td>\n",
       "</tr>\n",
       "<tr>\n",
       "  <th>weekday_name_Tuesday</th>   <td>   -3.6840</td> <td>    0.266</td> <td>  -13.866</td> <td> 0.000</td> <td>   -4.205</td> <td>   -3.163</td>\n",
       "</tr>\n",
       "<tr>\n",
       "  <th>weekday_name_Wednesday</th> <td>   -3.0918</td> <td>    0.264</td> <td>  -11.718</td> <td> 0.000</td> <td>   -3.609</td> <td>   -2.575</td>\n",
       "</tr>\n",
       "<tr>\n",
       "  <th>month_2</th>                <td>   -0.6187</td> <td>    0.395</td> <td>   -1.565</td> <td> 0.118</td> <td>   -1.393</td> <td>    0.156</td>\n",
       "</tr>\n",
       "<tr>\n",
       "  <th>month_3</th>                <td>    3.9354</td> <td>    0.383</td> <td>   10.267</td> <td> 0.000</td> <td>    3.184</td> <td>    4.687</td>\n",
       "</tr>\n",
       "<tr>\n",
       "  <th>month_4</th>                <td>    1.2557</td> <td>    0.374</td> <td>    3.355</td> <td> 0.001</td> <td>    0.522</td> <td>    1.989</td>\n",
       "</tr>\n",
       "<tr>\n",
       "  <th>month_5</th>                <td>    2.7710</td> <td>    0.371</td> <td>    7.463</td> <td> 0.000</td> <td>    2.043</td> <td>    3.499</td>\n",
       "</tr>\n",
       "<tr>\n",
       "  <th>month_6</th>                <td>    2.0742</td> <td>    0.370</td> <td>    5.602</td> <td> 0.000</td> <td>    1.348</td> <td>    2.800</td>\n",
       "</tr>\n",
       "<tr>\n",
       "  <th>month_7</th>                <td>    2.0245</td> <td>    0.368</td> <td>    5.503</td> <td> 0.000</td> <td>    1.303</td> <td>    2.745</td>\n",
       "</tr>\n",
       "<tr>\n",
       "  <th>month_8</th>                <td>    5.7915</td> <td>    0.368</td> <td>   15.759</td> <td> 0.000</td> <td>    5.071</td> <td>    6.512</td>\n",
       "</tr>\n",
       "<tr>\n",
       "  <th>month_9</th>                <td>   -2.2840</td> <td>    0.376</td> <td>   -6.074</td> <td> 0.000</td> <td>   -3.021</td> <td>   -1.547</td>\n",
       "</tr>\n",
       "<tr>\n",
       "  <th>month_10</th>               <td>   -0.0123</td> <td>    0.372</td> <td>   -0.033</td> <td> 0.974</td> <td>   -0.741</td> <td>    0.717</td>\n",
       "</tr>\n",
       "<tr>\n",
       "  <th>month_11</th>               <td>    2.3274</td> <td>    0.377</td> <td>    6.175</td> <td> 0.000</td> <td>    1.589</td> <td>    3.066</td>\n",
       "</tr>\n",
       "<tr>\n",
       "  <th>month_12</th>               <td>    2.2685</td> <td>    0.328</td> <td>    6.918</td> <td> 0.000</td> <td>    1.626</td> <td>    2.911</td>\n",
       "</tr>\n",
       "</table>\n",
       "<table class=\"simpletable\">\n",
       "<tr>\n",
       "  <th>Omnibus:</th>       <td>425997.766</td> <th>  Durbin-Watson:     </th>   <td>   1.995</td>   \n",
       "</tr>\n",
       "<tr>\n",
       "  <th>Prob(Omnibus):</th>   <td> 0.000</td>   <th>  Jarque-Bera (JB):  </th> <td>368967066.884</td>\n",
       "</tr>\n",
       "<tr>\n",
       "  <th>Skew:</th>            <td> 9.443</td>   <th>  Prob(JB):          </th>   <td>    0.00</td>   \n",
       "</tr>\n",
       "<tr>\n",
       "  <th>Kurtosis:</th>        <td>180.298</td>  <th>  Cond. No.          </th>   <td>1.24e+15</td>   \n",
       "</tr>\n",
       "</table><br/><br/>Warnings:<br/>[1] Standard Errors assume that the covariance matrix of the errors is correctly specified.<br/>[2] The smallest eigenvalue is 3.69e-23. This might indicate that there are<br/>strong multicollinearity problems or that the design matrix is singular."
      ],
      "text/plain": [
       "<class 'statsmodels.iolib.summary.Summary'>\n",
       "\"\"\"\n",
       "                            OLS Regression Results                            \n",
       "==============================================================================\n",
       "Dep. Variable:              dep_delay   R-squared:                       0.016\n",
       "Model:                            OLS   Adj. R-squared:                  0.016\n",
       "Method:                 Least Squares   F-statistic:                     163.9\n",
       "Date:                Thu, 23 Jan 2020   Prob (F-statistic):               0.00\n",
       "Time:                        21:06:37   Log-Likelihood:            -1.4061e+06\n",
       "No. Observations:              278541   AIC:                         2.812e+06\n",
       "Df Residuals:                  278512   BIC:                         2.813e+06\n",
       "Df Model:                          28                                         \n",
       "Covariance Type:            nonrobust                                         \n",
       "==========================================================================================\n",
       "                             coef    std err          t      P>|t|      [0.025      0.975]\n",
       "------------------------------------------------------------------------------------------\n",
       "const                      4.2346      0.407     10.402      0.000       3.437       5.032\n",
       "weekend                   -2.3443      0.155    -15.172      0.000      -2.647      -2.041\n",
       "hour                       0.5878      0.013     44.280      0.000       0.562       0.614\n",
       "carrier_AS                -2.3081      0.298     -7.744      0.000      -2.892      -1.724\n",
       "carrier_B6                 3.0265      0.446      6.790      0.000       2.153       3.900\n",
       "carrier_DL                -1.2241      0.282     -4.342      0.000      -1.777      -0.672\n",
       "carrier_F9                15.1656      0.869     17.454      0.000      13.463      16.869\n",
       "carrier_HA                 2.9754      0.803      3.707      0.000       1.402       4.549\n",
       "carrier_OO                -0.3721      0.263     -1.416      0.157      -0.887       0.143\n",
       "carrier_UA                -1.6916      0.258     -6.552      0.000      -2.198      -1.186\n",
       "carrier_WN                 2.5484      0.258      9.859      0.000       2.042       3.055\n",
       "origin_SFO                 3.6350      0.163     22.368      0.000       3.316       3.953\n",
       "origin_SJC                -2.4919      0.237    -10.535      0.000      -2.956      -2.028\n",
       "weekday_name_Monday       -2.3123      0.261     -8.856      0.000      -2.824      -1.801\n",
       "weekday_name_Saturday     -1.9563      0.162    -12.097      0.000      -2.273      -1.639\n",
       "weekday_name_Sunday       -0.3880      0.156     -2.492      0.013      -0.693      -0.083\n",
       "weekday_name_Thursday     -0.3413      0.263     -1.297      0.195      -0.857       0.175\n",
       "weekday_name_Tuesday      -3.6840      0.266    -13.866      0.000      -4.205      -3.163\n",
       "weekday_name_Wednesday    -3.0918      0.264    -11.718      0.000      -3.609      -2.575\n",
       "month_2                   -0.6187      0.395     -1.565      0.118      -1.393       0.156\n",
       "month_3                    3.9354      0.383     10.267      0.000       3.184       4.687\n",
       "month_4                    1.2557      0.374      3.355      0.001       0.522       1.989\n",
       "month_5                    2.7710      0.371      7.463      0.000       2.043       3.499\n",
       "month_6                    2.0742      0.370      5.602      0.000       1.348       2.800\n",
       "month_7                    2.0245      0.368      5.503      0.000       1.303       2.745\n",
       "month_8                    5.7915      0.368     15.759      0.000       5.071       6.512\n",
       "month_9                   -2.2840      0.376     -6.074      0.000      -3.021      -1.547\n",
       "month_10                  -0.0123      0.372     -0.033      0.974      -0.741       0.717\n",
       "month_11                   2.3274      0.377      6.175      0.000       1.589       3.066\n",
       "month_12                   2.2685      0.328      6.918      0.000       1.626       2.911\n",
       "==============================================================================\n",
       "Omnibus:                   425997.766   Durbin-Watson:                   1.995\n",
       "Prob(Omnibus):                  0.000   Jarque-Bera (JB):        368967066.884\n",
       "Skew:                           9.443   Prob(JB):                         0.00\n",
       "Kurtosis:                     180.298   Cond. No.                     1.24e+15\n",
       "==============================================================================\n",
       "\n",
       "Warnings:\n",
       "[1] Standard Errors assume that the covariance matrix of the errors is correctly specified.\n",
       "[2] The smallest eigenvalue is 3.69e-23. This might indicate that there are\n",
       "strong multicollinearity problems or that the design matrix is singular.\n",
       "\"\"\""
      ]
     },
     "execution_count": 8,
     "metadata": {},
     "output_type": "execute_result"
    }
   ],
   "source": [
    "model = sm.OLS(y_train, sm.add_constant(X_train))\n",
    "results = model.fit()\n",
    "\n",
    "results.summary()"
   ]
  },
  {
   "cell_type": "code",
   "execution_count": null,
   "metadata": {},
   "outputs": [],
   "source": [
    "# p val are significant = interpretable, which is good\n",
    "# try time series b/c of very low R2\n",
    "# MSE, R2, Adj R2 are key things to watch in our modeling\n",
    "# to make dist more normal, consider taking log"
   ]
  },
  {
   "cell_type": "markdown",
   "metadata": {},
   "source": [
    "# Regularization"
   ]
  },
  {
   "cell_type": "markdown",
   "metadata": {},
   "source": [
    "## Lasso"
   ]
  },
  {
   "cell_type": "code",
   "execution_count": 9,
   "metadata": {},
   "outputs": [
    {
     "data": {
      "text/plain": [
       "Index(['weekend', 'hour', 'carrier_AS', 'carrier_B6', 'carrier_DL',\n",
       "       'carrier_F9', 'carrier_HA', 'carrier_OO', 'carrier_UA', 'carrier_WN',\n",
       "       'origin_SFO', 'origin_SJC', 'weekday_name_Monday',\n",
       "       'weekday_name_Saturday', 'weekday_name_Sunday', 'weekday_name_Thursday',\n",
       "       'weekday_name_Tuesday', 'weekday_name_Wednesday', 'month_2', 'month_3',\n",
       "       'month_4', 'month_5', 'month_6', 'month_7', 'month_8', 'month_9',\n",
       "       'month_10', 'month_11', 'month_12'],\n",
       "      dtype='object')"
      ]
     },
     "execution_count": 9,
     "metadata": {},
     "output_type": "execute_result"
    }
   ],
   "source": [
    "#Lasso\n",
    "X_train.columns"
   ]
  },
  {
   "cell_type": "code",
   "execution_count": 10,
   "metadata": {},
   "outputs": [
    {
     "data": {
      "text/plain": [
       "Lasso(alpha=0.01, copy_X=True, fit_intercept=True, max_iter=1000,\n",
       "      normalize=False, positive=False, precompute=False, random_state=None,\n",
       "      selection='cyclic', tol=0.0001, warm_start=False)"
      ]
     },
     "execution_count": 10,
     "metadata": {},
     "output_type": "execute_result"
    }
   ],
   "source": [
    "lasso_model = Lasso(alpha = .01) # higher the alpha value, more restriction on the coefficients; \n",
    "#low alpha -> more generalization\n",
    "lasso_model.fit(X_train, y_train)"
   ]
  },
  {
   "cell_type": "code",
   "execution_count": null,
   "metadata": {},
   "outputs": [],
   "source": [
    "y_pred_lasso = lasso_model.predict(X_val)\n",
    "print(r2_score(y_val, y_pred_lasso))"
   ]
  },
  {
   "cell_type": "code",
   "execution_count": 11,
   "metadata": {},
   "outputs": [
    {
     "data": {
      "text/plain": [
       "[('weekend', -2.428834341118284),\n",
       " ('hour', 0.5858430473224513),\n",
       " ('carrier_AS', -2.1633762253225717),\n",
       " ('carrier_B6', 2.712835194824079),\n",
       " ('carrier_DL', -1.124968142272792),\n",
       " ('carrier_F9', 13.718299830092754),\n",
       " ('carrier_HA', 1.7647064298562334),\n",
       " ('carrier_OO', -0.31187471408484524),\n",
       " ('carrier_UA', -1.6048837082168574),\n",
       " ('carrier_WN', 2.4576954617665647),\n",
       " ('origin_SFO', 3.5790649633074954),\n",
       " ('origin_SJC', -2.3427878178235257),\n",
       " ('weekday_name_Monday', -1.955017062380144),\n",
       " ('weekday_name_Saturday', -1.4816950139386753),\n",
       " ('weekday_name_Sunday', 0.0),\n",
       " ('weekday_name_Thursday', -0.0),\n",
       " ('weekday_name_Tuesday', -3.3261002298835374),\n",
       " ('weekday_name_Wednesday', -2.7331204323950162),\n",
       " ('month_2', -1.1880504945700014),\n",
       " ('month_3', 3.070046943747255),\n",
       " ('month_4', 0.3778283761751423),\n",
       " ('month_5', 1.896127253872606),\n",
       " ('month_6', 1.2118200597380158),\n",
       " ('month_7', 1.1550954830307545),\n",
       " ('month_8', 4.934359711574183),\n",
       " ('month_9', -2.9012839509208903),\n",
       " ('month_10', -0.6399838548572948),\n",
       " ('month_11', 1.4548299033675625),\n",
       " ('month_12', 1.4518438188717975)]"
      ]
     },
     "execution_count": 11,
     "metadata": {},
     "output_type": "execute_result"
    }
   ],
   "source": [
    "list(zip(X_train, lasso_model.coef_))"
   ]
  },
  {
   "cell_type": "markdown",
   "metadata": {},
   "source": [
    "## Ridge"
   ]
  },
  {
   "cell_type": "code",
   "execution_count": 12,
   "metadata": {},
   "outputs": [
    {
     "data": {
      "text/plain": [
       "Ridge(alpha=0.01, copy_X=True, fit_intercept=True, max_iter=None,\n",
       "      normalize=False, random_state=None, solver='auto', tol=0.001)"
      ]
     },
     "execution_count": 12,
     "metadata": {},
     "output_type": "execute_result"
    }
   ],
   "source": [
    "#Ridge\n",
    "lr_model_ridge = Ridge(alpha = .01)\n",
    "lr_model_ridge.fit(X_train, y_train)"
   ]
  },
  {
   "cell_type": "code",
   "execution_count": null,
   "metadata": {},
   "outputs": [],
   "source": [
    "y_pred_ridge = lr_model_ridge.predict(X_val)\n",
    "print(r2_score(y_val,y_pred_ridge))"
   ]
  },
  {
   "cell_type": "code",
   "execution_count": 13,
   "metadata": {},
   "outputs": [
    {
     "data": {
      "text/plain": [
       "[('weekend', -2.3443057459869556),\n",
       " ('hour', 0.587762364916767),\n",
       " ('carrier_AS', -2.308131759780527),\n",
       " ('carrier_B6', 3.0264926503102516),\n",
       " ('carrier_DL', -1.224128090589489),\n",
       " ('carrier_F9', 15.16554319771533),\n",
       " ('carrier_HA', 2.9753531992363222),\n",
       " ('carrier_OO', -0.3721473025108054),\n",
       " ('carrier_UA', -1.6915756714249417),\n",
       " ('carrier_WN', 2.5483480061180575),\n",
       " ('origin_SFO', 3.6349602549953692),\n",
       " ('origin_SJC', -2.491918516660877),\n",
       " ('weekday_name_Monday', -2.312248735663851),\n",
       " ('weekday_name_Saturday', -1.9562964877369375),\n",
       " ('weekday_name_Sunday', -0.38800995028177854),\n",
       " ('weekday_name_Thursday', -0.3413072870291116),\n",
       " ('weekday_name_Tuesday', -3.6840444703848734),\n",
       " ('weekday_name_Wednesday', -3.0918024852484156),\n",
       " ('month_2', -0.6186990330237827),\n",
       " ('month_3', 3.9353568105746413),\n",
       " ('month_4', 1.2557341614670157),\n",
       " ('month_5', 2.7709997797831973),\n",
       " ('month_6', 2.074154803837386),\n",
       " ('month_7', 2.024464123517799),\n",
       " ('month_8', 5.791449748810789),\n",
       " ('month_9', -2.2840537927073687),\n",
       " ('month_10', -0.012305672886822374),\n",
       " ('month_11', 2.3274181103021934),\n",
       " ('month_12', 2.2684525223845355)]"
      ]
     },
     "execution_count": 13,
     "metadata": {},
     "output_type": "execute_result"
    }
   ],
   "source": [
    "list(zip(X_train, lr_model_ridge.coef_))"
   ]
  },
  {
   "cell_type": "markdown",
   "metadata": {},
   "source": [
    "# Train Set Predictions"
   ]
  },
  {
   "cell_type": "code",
   "execution_count": 241,
   "metadata": {},
   "outputs": [
    {
     "data": {
      "text/plain": [
       "[<matplotlib.lines.Line2D at 0x2330521890>]"
      ]
     },
     "execution_count": 241,
     "metadata": {},
     "output_type": "execute_result"
    },
    {
     "data": {
      "image/png": "[encoded data removed]",
      "text/plain": [
       "<Figure size 432x288 with 1 Axes>"
      ]
     },
     "metadata": {
      "needs_background": "light"
     },
     "output_type": "display_data"
    }
   ],
   "source": [
    "## predict values\n",
    "# plot\n",
    "plt.scatter(y_pred_ridge, y_val, alpha=.1)\n",
    "plt.plot(np.linspace(0,25,40), np.linspace(0,25,40))"
   ]
  },
  {
   "cell_type": "code",
   "execution_count": 243,
   "metadata": {},
   "outputs": [
    {
     "data": {
      "text/plain": [
       "17.602730609362226"
      ]
     },
     "execution_count": 243,
     "metadata": {},
     "output_type": "execute_result"
    }
   ],
   "source": [
    "#Mean Absolute Error (MAE)\n",
    "def mae(y_true, y_pred):\n",
    "    return np.mean(np.abs(y_pred - y_true)) \n",
    "\n",
    "print(mae(y_val, y_pred_ridge))\n",
    "print(mae(y_val,y_pred_lasso))"
   ]
  },
  {
   "cell_type": "markdown",
   "metadata": {},
   "source": [
    "# Power Transform Y Train"
   ]
  },
  {
   "cell_type": "code",
   "execution_count": 14,
   "metadata": {},
   "outputs": [
    {
     "data": {
      "text/html": [
       "<div>\n",
       "<style scoped>\n",
       "    .dataframe tbody tr th:only-of-type {\n",
       "        vertical-align: middle;\n",
       "    }\n",
       "\n",
       "    .dataframe tbody tr th {\n",
       "        vertical-align: top;\n",
       "    }\n",
       "\n",
       "    .dataframe thead th {\n",
       "        text-align: right;\n",
       "    }\n",
       "</style>\n",
       "<table border=\"1\" class=\"dataframe\">\n",
       "  <thead>\n",
       "    <tr style=\"text-align: right;\">\n",
       "      <th></th>\n",
       "      <th>0</th>\n",
       "    </tr>\n",
       "  </thead>\n",
       "  <tbody>\n",
       "    <tr>\n",
       "      <th>0</th>\n",
       "      <td>-0.726733</td>\n",
       "    </tr>\n",
       "    <tr>\n",
       "      <th>1</th>\n",
       "      <td>0.244729</td>\n",
       "    </tr>\n",
       "    <tr>\n",
       "      <th>2</th>\n",
       "      <td>-0.726733</td>\n",
       "    </tr>\n",
       "    <tr>\n",
       "      <th>3</th>\n",
       "      <td>-0.726733</td>\n",
       "    </tr>\n",
       "    <tr>\n",
       "      <th>4</th>\n",
       "      <td>1.620274</td>\n",
       "    </tr>\n",
       "    <tr>\n",
       "      <th>...</th>\n",
       "      <td>...</td>\n",
       "    </tr>\n",
       "    <tr>\n",
       "      <th>278536</th>\n",
       "      <td>0.244729</td>\n",
       "    </tr>\n",
       "    <tr>\n",
       "      <th>278537</th>\n",
       "      <td>1.642998</td>\n",
       "    </tr>\n",
       "    <tr>\n",
       "      <th>278538</th>\n",
       "      <td>1.315331</td>\n",
       "    </tr>\n",
       "    <tr>\n",
       "      <th>278539</th>\n",
       "      <td>-0.726733</td>\n",
       "    </tr>\n",
       "    <tr>\n",
       "      <th>278540</th>\n",
       "      <td>-0.726733</td>\n",
       "    </tr>\n",
       "  </tbody>\n",
       "</table>\n",
       "<p>278541 rows × 1 columns</p>\n",
       "</div>"
      ],
      "text/plain": [
       "               0\n",
       "0      -0.726733\n",
       "1       0.244729\n",
       "2      -0.726733\n",
       "3      -0.726733\n",
       "4       1.620274\n",
       "...          ...\n",
       "278536  0.244729\n",
       "278537  1.642998\n",
       "278538  1.315331\n",
       "278539 -0.726733\n",
       "278540 -0.726733\n",
       "\n",
       "[278541 rows x 1 columns]"
      ]
     },
     "execution_count": 14,
     "metadata": {},
     "output_type": "execute_result"
    }
   ],
   "source": [
    "from sklearn.preprocessing import power_transform\n",
    "#y_reshape = y_train.reshape(-1, 1)\n",
    "y_t = power_transform(y_train.values.reshape(-1,1), method='yeo-johnson')\n",
    "pd.DataFrame(y_t)"
   ]
  },
  {
   "cell_type": "markdown",
   "metadata": {},
   "source": [
    "# Scaler Transformation"
   ]
  },
  {
   "cell_type": "code",
   "execution_count": 15,
   "metadata": {},
   "outputs": [],
   "source": [
    "from sklearn.pipeline import Pipeline\n",
    "from sklearn.preprocessing import StandardScaler"
   ]
  },
  {
   "cell_type": "code",
   "execution_count": 16,
   "metadata": {},
   "outputs": [
    {
     "data": {
      "text/plain": [
       "StandardScaler(copy=True, with_mean=True, with_std=True)"
      ]
     },
     "execution_count": 16,
     "metadata": {},
     "output_type": "execute_result"
    }
   ],
   "source": [
    "## This step fits the Standard Scaler to the training data\n",
    "## Essentially it finds the mean and standard deviation of each variable in the training set\n",
    "\n",
    "std = StandardScaler()\n",
    "std.fit(X_train.values)"
   ]
  },
  {
   "cell_type": "code",
   "execution_count": 17,
   "metadata": {},
   "outputs": [
    {
     "data": {
      "text/html": [
       "<div>\n",
       "<style scoped>\n",
       "    .dataframe tbody tr th:only-of-type {\n",
       "        vertical-align: middle;\n",
       "    }\n",
       "\n",
       "    .dataframe tbody tr th {\n",
       "        vertical-align: top;\n",
       "    }\n",
       "\n",
       "    .dataframe thead th {\n",
       "        text-align: right;\n",
       "    }\n",
       "</style>\n",
       "<table border=\"1\" class=\"dataframe\">\n",
       "  <thead>\n",
       "    <tr style=\"text-align: right;\">\n",
       "      <th></th>\n",
       "      <th>0</th>\n",
       "      <th>1</th>\n",
       "      <th>2</th>\n",
       "      <th>3</th>\n",
       "      <th>4</th>\n",
       "      <th>5</th>\n",
       "      <th>6</th>\n",
       "      <th>7</th>\n",
       "      <th>8</th>\n",
       "      <th>9</th>\n",
       "      <th>...</th>\n",
       "      <th>19</th>\n",
       "      <th>20</th>\n",
       "      <th>21</th>\n",
       "      <th>22</th>\n",
       "      <th>23</th>\n",
       "      <th>24</th>\n",
       "      <th>25</th>\n",
       "      <th>26</th>\n",
       "      <th>27</th>\n",
       "      <th>28</th>\n",
       "    </tr>\n",
       "  </thead>\n",
       "  <tbody>\n",
       "    <tr>\n",
       "      <th>0</th>\n",
       "      <td>-0.603772</td>\n",
       "      <td>1.460239</td>\n",
       "      <td>-0.342545</td>\n",
       "      <td>-0.181688</td>\n",
       "      <td>-0.373462</td>\n",
       "      <td>-0.084871</td>\n",
       "      <td>-0.092242</td>\n",
       "      <td>-0.459829</td>\n",
       "      <td>-0.517066</td>\n",
       "      <td>1.973535</td>\n",
       "      <td>...</td>\n",
       "      <td>-0.275410</td>\n",
       "      <td>-0.291162</td>\n",
       "      <td>-0.296712</td>\n",
       "      <td>-0.299034</td>\n",
       "      <td>3.295049</td>\n",
       "      <td>-0.304212</td>\n",
       "      <td>-0.288038</td>\n",
       "      <td>-0.294975</td>\n",
       "      <td>-0.286368</td>\n",
       "      <td>-0.429927</td>\n",
       "    </tr>\n",
       "    <tr>\n",
       "      <th>1</th>\n",
       "      <td>-0.603772</td>\n",
       "      <td>-1.495588</td>\n",
       "      <td>-0.342545</td>\n",
       "      <td>-0.181688</td>\n",
       "      <td>-0.373462</td>\n",
       "      <td>-0.084871</td>\n",
       "      <td>-0.092242</td>\n",
       "      <td>-0.459829</td>\n",
       "      <td>1.933990</td>\n",
       "      <td>-0.506705</td>\n",
       "      <td>...</td>\n",
       "      <td>-0.275410</td>\n",
       "      <td>-0.291162</td>\n",
       "      <td>-0.296712</td>\n",
       "      <td>-0.299034</td>\n",
       "      <td>-0.303486</td>\n",
       "      <td>-0.304212</td>\n",
       "      <td>3.471764</td>\n",
       "      <td>-0.294975</td>\n",
       "      <td>-0.286368</td>\n",
       "      <td>-0.429927</td>\n",
       "    </tr>\n",
       "    <tr>\n",
       "      <th>2</th>\n",
       "      <td>-0.603772</td>\n",
       "      <td>-0.202414</td>\n",
       "      <td>-0.342545</td>\n",
       "      <td>-0.181688</td>\n",
       "      <td>-0.373462</td>\n",
       "      <td>-0.084871</td>\n",
       "      <td>-0.092242</td>\n",
       "      <td>-0.459829</td>\n",
       "      <td>-0.517066</td>\n",
       "      <td>1.973535</td>\n",
       "      <td>...</td>\n",
       "      <td>-0.275410</td>\n",
       "      <td>-0.291162</td>\n",
       "      <td>3.370271</td>\n",
       "      <td>-0.299034</td>\n",
       "      <td>-0.303486</td>\n",
       "      <td>-0.304212</td>\n",
       "      <td>-0.288038</td>\n",
       "      <td>-0.294975</td>\n",
       "      <td>-0.286368</td>\n",
       "      <td>-0.429927</td>\n",
       "    </tr>\n",
       "    <tr>\n",
       "      <th>3</th>\n",
       "      <td>1.656254</td>\n",
       "      <td>0.351804</td>\n",
       "      <td>-0.342545</td>\n",
       "      <td>-0.181688</td>\n",
       "      <td>2.677647</td>\n",
       "      <td>-0.084871</td>\n",
       "      <td>-0.092242</td>\n",
       "      <td>-0.459829</td>\n",
       "      <td>-0.517066</td>\n",
       "      <td>-0.506705</td>\n",
       "      <td>...</td>\n",
       "      <td>-0.275410</td>\n",
       "      <td>-0.291162</td>\n",
       "      <td>-0.296712</td>\n",
       "      <td>-0.299034</td>\n",
       "      <td>-0.303486</td>\n",
       "      <td>-0.304212</td>\n",
       "      <td>3.471764</td>\n",
       "      <td>-0.294975</td>\n",
       "      <td>-0.286368</td>\n",
       "      <td>-0.429927</td>\n",
       "    </tr>\n",
       "    <tr>\n",
       "      <th>4</th>\n",
       "      <td>-0.603772</td>\n",
       "      <td>-0.571892</td>\n",
       "      <td>-0.342545</td>\n",
       "      <td>-0.181688</td>\n",
       "      <td>-0.373462</td>\n",
       "      <td>-0.084871</td>\n",
       "      <td>-0.092242</td>\n",
       "      <td>-0.459829</td>\n",
       "      <td>-0.517066</td>\n",
       "      <td>1.973535</td>\n",
       "      <td>...</td>\n",
       "      <td>-0.275410</td>\n",
       "      <td>-0.291162</td>\n",
       "      <td>-0.296712</td>\n",
       "      <td>-0.299034</td>\n",
       "      <td>-0.303486</td>\n",
       "      <td>-0.304212</td>\n",
       "      <td>-0.288038</td>\n",
       "      <td>-0.294975</td>\n",
       "      <td>-0.286368</td>\n",
       "      <td>-0.429927</td>\n",
       "    </tr>\n",
       "    <tr>\n",
       "      <th>...</th>\n",
       "      <td>...</td>\n",
       "      <td>...</td>\n",
       "      <td>...</td>\n",
       "      <td>...</td>\n",
       "      <td>...</td>\n",
       "      <td>...</td>\n",
       "      <td>...</td>\n",
       "      <td>...</td>\n",
       "      <td>...</td>\n",
       "      <td>...</td>\n",
       "      <td>...</td>\n",
       "      <td>...</td>\n",
       "      <td>...</td>\n",
       "      <td>...</td>\n",
       "      <td>...</td>\n",
       "      <td>...</td>\n",
       "      <td>...</td>\n",
       "      <td>...</td>\n",
       "      <td>...</td>\n",
       "      <td>...</td>\n",
       "      <td>...</td>\n",
       "    </tr>\n",
       "    <tr>\n",
       "      <th>278536</th>\n",
       "      <td>-0.603772</td>\n",
       "      <td>-0.571892</td>\n",
       "      <td>-0.342545</td>\n",
       "      <td>-0.181688</td>\n",
       "      <td>-0.373462</td>\n",
       "      <td>-0.084871</td>\n",
       "      <td>-0.092242</td>\n",
       "      <td>-0.459829</td>\n",
       "      <td>1.933990</td>\n",
       "      <td>-0.506705</td>\n",
       "      <td>...</td>\n",
       "      <td>-0.275410</td>\n",
       "      <td>-0.291162</td>\n",
       "      <td>-0.296712</td>\n",
       "      <td>-0.299034</td>\n",
       "      <td>-0.303486</td>\n",
       "      <td>-0.304212</td>\n",
       "      <td>-0.288038</td>\n",
       "      <td>3.390113</td>\n",
       "      <td>-0.286368</td>\n",
       "      <td>-0.429927</td>\n",
       "    </tr>\n",
       "    <tr>\n",
       "      <th>278537</th>\n",
       "      <td>-0.603772</td>\n",
       "      <td>0.167065</td>\n",
       "      <td>-0.342545</td>\n",
       "      <td>-0.181688</td>\n",
       "      <td>-0.373462</td>\n",
       "      <td>-0.084871</td>\n",
       "      <td>-0.092242</td>\n",
       "      <td>-0.459829</td>\n",
       "      <td>-0.517066</td>\n",
       "      <td>1.973535</td>\n",
       "      <td>...</td>\n",
       "      <td>-0.275410</td>\n",
       "      <td>3.434515</td>\n",
       "      <td>-0.296712</td>\n",
       "      <td>-0.299034</td>\n",
       "      <td>-0.303486</td>\n",
       "      <td>-0.304212</td>\n",
       "      <td>-0.288038</td>\n",
       "      <td>-0.294975</td>\n",
       "      <td>-0.286368</td>\n",
       "      <td>-0.429927</td>\n",
       "    </tr>\n",
       "    <tr>\n",
       "      <th>278538</th>\n",
       "      <td>-0.603772</td>\n",
       "      <td>-0.571892</td>\n",
       "      <td>-0.342545</td>\n",
       "      <td>-0.181688</td>\n",
       "      <td>-0.373462</td>\n",
       "      <td>-0.084871</td>\n",
       "      <td>-0.092242</td>\n",
       "      <td>-0.459829</td>\n",
       "      <td>1.933990</td>\n",
       "      <td>-0.506705</td>\n",
       "      <td>...</td>\n",
       "      <td>-0.275410</td>\n",
       "      <td>-0.291162</td>\n",
       "      <td>-0.296712</td>\n",
       "      <td>-0.299034</td>\n",
       "      <td>-0.303486</td>\n",
       "      <td>3.287185</td>\n",
       "      <td>-0.288038</td>\n",
       "      <td>-0.294975</td>\n",
       "      <td>-0.286368</td>\n",
       "      <td>-0.429927</td>\n",
       "    </tr>\n",
       "    <tr>\n",
       "      <th>278539</th>\n",
       "      <td>1.656254</td>\n",
       "      <td>-0.756632</td>\n",
       "      <td>-0.342545</td>\n",
       "      <td>-0.181688</td>\n",
       "      <td>-0.373462</td>\n",
       "      <td>-0.084871</td>\n",
       "      <td>-0.092242</td>\n",
       "      <td>-0.459829</td>\n",
       "      <td>1.933990</td>\n",
       "      <td>-0.506705</td>\n",
       "      <td>...</td>\n",
       "      <td>3.630947</td>\n",
       "      <td>-0.291162</td>\n",
       "      <td>-0.296712</td>\n",
       "      <td>-0.299034</td>\n",
       "      <td>-0.303486</td>\n",
       "      <td>-0.304212</td>\n",
       "      <td>-0.288038</td>\n",
       "      <td>-0.294975</td>\n",
       "      <td>-0.286368</td>\n",
       "      <td>-0.429927</td>\n",
       "    </tr>\n",
       "    <tr>\n",
       "      <th>278540</th>\n",
       "      <td>-0.603772</td>\n",
       "      <td>1.090761</td>\n",
       "      <td>2.919322</td>\n",
       "      <td>-0.181688</td>\n",
       "      <td>-0.373462</td>\n",
       "      <td>-0.084871</td>\n",
       "      <td>-0.092242</td>\n",
       "      <td>-0.459829</td>\n",
       "      <td>-0.517066</td>\n",
       "      <td>-0.506705</td>\n",
       "      <td>...</td>\n",
       "      <td>-0.275410</td>\n",
       "      <td>-0.291162</td>\n",
       "      <td>-0.296712</td>\n",
       "      <td>-0.299034</td>\n",
       "      <td>-0.303486</td>\n",
       "      <td>-0.304212</td>\n",
       "      <td>3.471764</td>\n",
       "      <td>-0.294975</td>\n",
       "      <td>-0.286368</td>\n",
       "      <td>-0.429927</td>\n",
       "    </tr>\n",
       "  </tbody>\n",
       "</table>\n",
       "<p>278541 rows × 29 columns</p>\n",
       "</div>"
      ],
      "text/plain": [
       "              0         1         2         3         4         5         6   \\\n",
       "0      -0.603772  1.460239 -0.342545 -0.181688 -0.373462 -0.084871 -0.092242   \n",
       "1      -0.603772 -1.495588 -0.342545 -0.181688 -0.373462 -0.084871 -0.092242   \n",
       "2      -0.603772 -0.202414 -0.342545 -0.181688 -0.373462 -0.084871 -0.092242   \n",
       "3       1.656254  0.351804 -0.342545 -0.181688  2.677647 -0.084871 -0.092242   \n",
       "4      -0.603772 -0.571892 -0.342545 -0.181688 -0.373462 -0.084871 -0.092242   \n",
       "...          ...       ...       ...       ...       ...       ...       ...   \n",
       "278536 -0.603772 -0.571892 -0.342545 -0.181688 -0.373462 -0.084871 -0.092242   \n",
       "278537 -0.603772  0.167065 -0.342545 -0.181688 -0.373462 -0.084871 -0.092242   \n",
       "278538 -0.603772 -0.571892 -0.342545 -0.181688 -0.373462 -0.084871 -0.092242   \n",
       "278539  1.656254 -0.756632 -0.342545 -0.181688 -0.373462 -0.084871 -0.092242   \n",
       "278540 -0.603772  1.090761  2.919322 -0.181688 -0.373462 -0.084871 -0.092242   \n",
       "\n",
       "              7         8         9   ...        19        20        21  \\\n",
       "0      -0.459829 -0.517066  1.973535  ... -0.275410 -0.291162 -0.296712   \n",
       "1      -0.459829  1.933990 -0.506705  ... -0.275410 -0.291162 -0.296712   \n",
       "2      -0.459829 -0.517066  1.973535  ... -0.275410 -0.291162  3.370271   \n",
       "3      -0.459829 -0.517066 -0.506705  ... -0.275410 -0.291162 -0.296712   \n",
       "4      -0.459829 -0.517066  1.973535  ... -0.275410 -0.291162 -0.296712   \n",
       "...          ...       ...       ...  ...       ...       ...       ...   \n",
       "278536 -0.459829  1.933990 -0.506705  ... -0.275410 -0.291162 -0.296712   \n",
       "278537 -0.459829 -0.517066  1.973535  ... -0.275410  3.434515 -0.296712   \n",
       "278538 -0.459829  1.933990 -0.506705  ... -0.275410 -0.291162 -0.296712   \n",
       "278539 -0.459829  1.933990 -0.506705  ...  3.630947 -0.291162 -0.296712   \n",
       "278540 -0.459829 -0.517066 -0.506705  ... -0.275410 -0.291162 -0.296712   \n",
       "\n",
       "              22        23        24        25        26        27        28  \n",
       "0      -0.299034  3.295049 -0.304212 -0.288038 -0.294975 -0.286368 -0.429927  \n",
       "1      -0.299034 -0.303486 -0.304212  3.471764 -0.294975 -0.286368 -0.429927  \n",
       "2      -0.299034 -0.303486 -0.304212 -0.288038 -0.294975 -0.286368 -0.429927  \n",
       "3      -0.299034 -0.303486 -0.304212  3.471764 -0.294975 -0.286368 -0.429927  \n",
       "4      -0.299034 -0.303486 -0.304212 -0.288038 -0.294975 -0.286368 -0.429927  \n",
       "...          ...       ...       ...       ...       ...       ...       ...  \n",
       "278536 -0.299034 -0.303486 -0.304212 -0.288038  3.390113 -0.286368 -0.429927  \n",
       "278537 -0.299034 -0.303486 -0.304212 -0.288038 -0.294975 -0.286368 -0.429927  \n",
       "278538 -0.299034 -0.303486  3.287185 -0.288038 -0.294975 -0.286368 -0.429927  \n",
       "278539 -0.299034 -0.303486 -0.304212 -0.288038 -0.294975 -0.286368 -0.429927  \n",
       "278540 -0.299034 -0.303486 -0.304212  3.471764 -0.294975 -0.286368 -0.429927  \n",
       "\n",
       "[278541 rows x 29 columns]"
      ]
     },
     "execution_count": 17,
     "metadata": {},
     "output_type": "execute_result"
    }
   ],
   "source": [
    "## This step applies the scaler to the train set.\n",
    "## It subtracts the mean it learned in the previous step and then divides by the standard deviation\n",
    "\n",
    "X_tr = std.transform(X_train.values)\n",
    "pd.DataFrame(X_tr)"
   ]
  },
  {
   "cell_type": "code",
   "execution_count": 18,
   "metadata": {},
   "outputs": [
    {
     "data": {
      "text/plain": [
       "[<matplotlib.lines.Line2D at 0x1429789990>]"
      ]
     },
     "execution_count": 18,
     "metadata": {},
     "output_type": "execute_result"
    },
    {
     "data": {
      "image/png": "[encoded data removed]",
      "text/plain": [
       "<Figure size 432x288 with 1 Axes>"
      ]
     },
     "metadata": {
      "needs_background": "light"
     },
     "output_type": "display_data"
    }
   ],
   "source": [
    "train_set_pred2 = lasso_model.predict(X_tr)\n",
    "plt.scatter(train_set_pred2, y_t, alpha=.01)\n",
    "plt.plot(np.linspace(0,5,40), np.linspace(0,5,40))"
   ]
  },
  {
   "cell_type": "code",
   "execution_count": 66,
   "metadata": {},
   "outputs": [
    {
     "data": {
      "text/plain": [
       "[<matplotlib.lines.Line2D at 0x2336295410>]"
      ]
     },
     "execution_count": 66,
     "metadata": {},
     "output_type": "execute_result"
    },
    {
     "data": {
      "image/png": "[encoded data removed]",
      "text/plain": [
       "<Figure size 432x288 with 1 Axes>"
      ]
     },
     "metadata": {
      "needs_background": "light"
     },
     "output_type": "display_data"
    }
   ],
   "source": [
    "train_set_pred4 = lasso_model.predict(X_val)\n",
    "plt.scatter(train_set_pred4, y_val, alpha=.01)\n",
    "plt.plot(np.linspace(0,5,40), np.linspace(0,5,40))"
   ]
  },
  {
   "cell_type": "markdown",
   "metadata": {},
   "source": [
    "# Regularization with Scaler Transform"
   ]
  },
  {
   "cell_type": "code",
   "execution_count": 19,
   "metadata": {},
   "outputs": [
    {
     "data": {
      "text/plain": [
       "Lasso(alpha=0.01, copy_X=True, fit_intercept=True, max_iter=1000,\n",
       "      normalize=False, positive=False, precompute=False, random_state=None,\n",
       "      selection='cyclic', tol=0.0001, warm_start=False)"
      ]
     },
     "execution_count": 19,
     "metadata": {},
     "output_type": "execute_result"
    }
   ],
   "source": [
    "## Fit a LASSO model on the standardized data\n",
    "\n",
    "lasso_model2 = Lasso(alpha = .01)\n",
    "lasso_model2.fit(X_tr,y_t)\n",
    "\n"
   ]
  },
  {
   "cell_type": "code",
   "execution_count": 56,
   "metadata": {},
   "outputs": [
    {
     "ename": "AttributeError",
     "evalue": "'Lasso' object has no attribute 'resid'",
     "output_type": "error",
     "traceback": [
      "\u001b[0;31m---------------------------------------------------------------------------\u001b[0m",
      "\u001b[0;31mAttributeError\u001b[0m                            Traceback (most recent call last)",
      "\u001b[0;32m<ipython-input-56-c7be3d739dff>\u001b[0m in \u001b[0;36m<module>\u001b[0;34m\u001b[0m\n\u001b[0;32m----> 1\u001b[0;31m \u001b[0mlasso_model2\u001b[0m\u001b[0;34m.\u001b[0m\u001b[0mresid\u001b[0m\u001b[0;34m.\u001b[0m\u001b[0mplot\u001b[0m\u001b[0;34m(\u001b[0m\u001b[0mstyle\u001b[0m\u001b[0;34m=\u001b[0m\u001b[0;34m'o'\u001b[0m\u001b[0;34m,\u001b[0m \u001b[0mfigsize\u001b[0m\u001b[0;34m=\u001b[0m\u001b[0;34m(\u001b[0m\u001b[0;36m12\u001b[0m\u001b[0;34m,\u001b[0m\u001b[0;36m8\u001b[0m\u001b[0;34m)\u001b[0m\u001b[0;34m)\u001b[0m\u001b[0;34m;\u001b[0m\u001b[0;34m\u001b[0m\u001b[0;34m\u001b[0m\u001b[0m\n\u001b[0m",
      "\u001b[0;31mAttributeError\u001b[0m: 'Lasso' object has no attribute 'resid'"
     ]
    }
   ],
   "source": [
    "lasso_model2.resid.plot(style='o', figsize=(12,8));"
   ]
  },
  {
   "cell_type": "code",
   "execution_count": 20,
   "metadata": {},
   "outputs": [
    {
     "data": {
      "text/plain": [
       "[('weekend', -0.0020824170025601084),\n",
       " ('hour', 0.12024629977086058),\n",
       " ('carrier_AS', -0.0),\n",
       " ('carrier_B6', 0.0068148723725289856),\n",
       " ('carrier_DL', 0.0012996723986226084),\n",
       " ('carrier_F9', 0.023445635254109504),\n",
       " ('carrier_HA', 0.005864627062838976),\n",
       " ('carrier_OO', -0.05318425141668292),\n",
       " ('carrier_UA', -0.027318117701519352),\n",
       " ('carrier_WN', 0.12821981148691755),\n",
       " ('origin_SFO', 0.028600587994899798),\n",
       " ('origin_SJC', -0.03364624890897758),\n",
       " ('weekday_name_Monday', -0.0),\n",
       " ('weekday_name_Saturday', -0.02008843499573383),\n",
       " ('weekday_name_Sunday', -0.0),\n",
       " ('weekday_name_Thursday', 0.018249135206077842),\n",
       " ('weekday_name_Tuesday', -0.02646503298635301),\n",
       " ('weekday_name_Wednesday', -0.005815843367568856),\n",
       " ('month_2', -0.008535273471284785),\n",
       " ('month_3', 0.015842014007749722),\n",
       " ('month_4', -0.0),\n",
       " ('month_5', 0.0057341865516684735),\n",
       " ('month_6', 0.005555954449967966),\n",
       " ('month_7', 0.0),\n",
       " ('month_8', 0.02101591310284003),\n",
       " ('month_9', -0.04050322533535052),\n",
       " ('month_10', -0.011413847313590164),\n",
       " ('month_11', 0.0),\n",
       " ('month_12', 0.00773649172899894)]"
      ]
     },
     "execution_count": 20,
     "metadata": {},
     "output_type": "execute_result"
    }
   ],
   "source": [
    "## Note that now we can meaningfully compare the importance of\n",
    "## different features, since they're on the same scale\n",
    "\n",
    "## But it's now difficult to interpret the coefficients\n",
    "## We would need to translate back to the original feature scales by dividing\n",
    "## each coefficient by the original column's standard deviation\n",
    "\n",
    "list(zip(X_train.columns, lasso_model2.coef_))\n",
    "## later in day = more delay\n",
    "## WN - southwest, more delayed"
   ]
  },
  {
   "cell_type": "code",
   "execution_count": 21,
   "metadata": {},
   "outputs": [
    {
     "data": {
      "text/plain": [
       "array([5.65166418e-17])"
      ]
     },
     "execution_count": 21,
     "metadata": {},
     "output_type": "execute_result"
    }
   ],
   "source": [
    "lasso_model2.intercept_\n",
    "# try manually dropping other dummy variables to see how they affect delay with coeff"
   ]
  },
  {
   "cell_type": "code",
   "execution_count": 22,
   "metadata": {},
   "outputs": [
    {
     "data": {
      "text/plain": [
       "0.05292670135065858"
      ]
     },
     "execution_count": 22,
     "metadata": {},
     "output_type": "execute_result"
    }
   ],
   "source": [
    "## lasso scaler r2\n",
    "lasso_train_set_pred = lasso_model2.predict(X_tr)\n",
    "r2_score(y_t, lasso_train_set_pred)"
   ]
  },
  {
   "cell_type": "code",
   "execution_count": 23,
   "metadata": {},
   "outputs": [],
   "source": [
    "selected_columns = ['weekend','carrier_AS',\n",
    "       'carrier_B6', 'carrier_DL', 'carrier_F9', 'carrier_HA', 'carrier_OO',\n",
    "       'carrier_UA', 'carrier_WN', 'origin_SFO', 'origin_SJC',\n",
    "        'weekday_name_Monday', 'weekday_name_Saturday', 'weekday_name_Sunday',\n",
    "        'weekday_name_Thursday', 'weekday_name_Tuesday',\n",
    "       'weekday_name_Wednesday']"
   ]
  },
  {
   "cell_type": "code",
   "execution_count": 26,
   "metadata": {
    "scrolled": true
   },
   "outputs": [
    {
     "data": {
      "text/plain": [
       "[('weekend', -0.8307502258351626),\n",
       " ('carrier_AS', 3.1815787241566893),\n",
       " ('carrier_B6', -0.7076093082207011),\n",
       " ('carrier_DL', 0.5323083129218942),\n",
       " ('carrier_F9', -0.4012061020374391),\n",
       " ('carrier_HA', 1.2779147356385978),\n",
       " ('carrier_OO', 0.27213893318219484),\n",
       " ('carrier_UA', -0.1412546307389516),\n",
       " ('carrier_WN', -0.6901398837557553),\n",
       " ('origin_SFO', 1.0274624787325313),\n",
       " ('origin_SJC', 1.7743121317523216),\n",
       " ('weekday_name_Monday', -0.8281088528535407),\n",
       " ('weekday_name_Saturday', -0.8293876356647534),\n",
       " ('weekday_name_Sunday', -0.7975312091039889),\n",
       " ('weekday_name_Thursday', -0.299713310220996),\n",
       " ('weekday_name_Tuesday', -0.12064009666611321),\n",
       " ('weekday_name_Wednesday', -1.2836912146218893)]"
      ]
     },
     "execution_count": 26,
     "metadata": {},
     "output_type": "execute_result"
    }
   ],
   "source": [
    "# have to use y-train, not y-t because transformed shape weird\n",
    "lr_model_ridge2 = Ridge(alpha = .01)\n",
    "# try with alpha = 1\n",
    "lr_model_ridge2.fit(X_tr, y_train)\n",
    "\n",
    "list(zip(X_train.loc[:,selected_columns], lr_model_ridge2.coef_))\n",
    "\n",
    "\n"
   ]
  },
  {
   "cell_type": "code",
   "execution_count": 27,
   "metadata": {},
   "outputs": [
    {
     "data": {
      "text/plain": [
       "12.430227506902035"
      ]
     },
     "execution_count": 27,
     "metadata": {},
     "output_type": "execute_result"
    }
   ],
   "source": [
    "lr_model_ridge2.intercept_"
   ]
  },
  {
   "cell_type": "code",
   "execution_count": 28,
   "metadata": {},
   "outputs": [],
   "source": [
    "ridge_train_set_pred = lr_model_ridge2.predict(X_val)"
   ]
  },
  {
   "cell_type": "code",
   "execution_count": 29,
   "metadata": {},
   "outputs": [
    {
     "data": {
      "text/plain": [
       "0.016206308464155494"
      ]
     },
     "execution_count": 29,
     "metadata": {},
     "output_type": "execute_result"
    }
   ],
   "source": [
    "## ridge scalar r2\n",
    "r2_score(y_train, ridge_train_set_pred)"
   ]
  },
  {
   "cell_type": "code",
   "execution_count": 30,
   "metadata": {},
   "outputs": [
    {
     "data": {
      "text/plain": [
       "17.59413135108736"
      ]
     },
     "execution_count": 30,
     "metadata": {},
     "output_type": "execute_result"
    }
   ],
   "source": [
    "#Mean Absolute Error (MAE)\n",
    "def mae(y_true, y_pred):\n",
    "    return np.mean(np.abs(y_pred - y_true)) \n",
    "\n",
    "mae(y_train, ridge_train_set_pred)"
   ]
  },
  {
   "cell_type": "code",
   "execution_count": 31,
   "metadata": {},
   "outputs": [
    {
     "data": {
      "text/html": [
       "<table class=\"simpletable\">\n",
       "<caption>OLS Regression Results</caption>\n",
       "<tr>\n",
       "  <th>Dep. Variable:</th>            <td>y</td>        <th>  R-squared (uncentered):</th>       <td>   0.057</td>  \n",
       "</tr>\n",
       "<tr>\n",
       "  <th>Model:</th>                   <td>OLS</td>       <th>  Adj. R-squared (uncentered):</th>  <td>   0.057</td>  \n",
       "</tr>\n",
       "<tr>\n",
       "  <th>Method:</th>             <td>Least Squares</td>  <th>  F-statistic:       </th>           <td>   578.7</td>  \n",
       "</tr>\n",
       "<tr>\n",
       "  <th>Date:</th>             <td>Thu, 23 Jan 2020</td> <th>  Prob (F-statistic):</th>            <td>  0.00</td>   \n",
       "</tr>\n",
       "<tr>\n",
       "  <th>Time:</th>                 <td>21:08:20</td>     <th>  Log-Likelihood:    </th>          <td>-3.8708e+05</td>\n",
       "</tr>\n",
       "<tr>\n",
       "  <th>No. Observations:</th>      <td>278541</td>      <th>  AIC:               </th>           <td>7.742e+05</td> \n",
       "</tr>\n",
       "<tr>\n",
       "  <th>Df Residuals:</th>          <td>278512</td>      <th>  BIC:               </th>           <td>7.745e+05</td> \n",
       "</tr>\n",
       "<tr>\n",
       "  <th>Df Model:</th>              <td>    29</td>      <th>                     </th>               <td> </td>     \n",
       "</tr>\n",
       "<tr>\n",
       "  <th>Covariance Type:</th>      <td>nonrobust</td>    <th>                     </th>               <td> </td>     \n",
       "</tr>\n",
       "</table>\n",
       "<table class=\"simpletable\">\n",
       "<tr>\n",
       "   <td></td>      <th>coef</th>     <th>std err</th>      <th>t</th>      <th>P>|t|</th>  <th>[0.025</th>    <th>0.975]</th>  \n",
       "</tr>\n",
       "<tr>\n",
       "  <th>x1</th>  <td> 2.216e+10</td> <td> 1.87e+10</td> <td>    1.188</td> <td> 0.235</td> <td>-1.44e+10</td> <td> 5.87e+10</td>\n",
       "</tr>\n",
       "<tr>\n",
       "  <th>x2</th>  <td>    0.1310</td> <td>    0.002</td> <td>   70.739</td> <td> 0.000</td> <td>    0.127</td> <td>    0.135</td>\n",
       "</tr>\n",
       "<tr>\n",
       "  <th>x3</th>  <td>   -0.0080</td> <td>    0.002</td> <td>   -3.400</td> <td> 0.001</td> <td>   -0.013</td> <td>   -0.003</td>\n",
       "</tr>\n",
       "<tr>\n",
       "  <th>x4</th>  <td>    0.0169</td> <td>    0.002</td> <td>    8.357</td> <td> 0.000</td> <td>    0.013</td> <td>    0.021</td>\n",
       "</tr>\n",
       "<tr>\n",
       "  <th>x5</th>  <td>    0.0107</td> <td>    0.002</td> <td>    4.505</td> <td> 0.000</td> <td>    0.006</td> <td>    0.015</td>\n",
       "</tr>\n",
       "<tr>\n",
       "  <th>x6</th>  <td>    0.0349</td> <td>    0.002</td> <td>   18.507</td> <td> 0.000</td> <td>    0.031</td> <td>    0.039</td>\n",
       "</tr>\n",
       "<tr>\n",
       "  <th>x7</th>  <td>    0.0173</td> <td>    0.002</td> <td>    9.168</td> <td> 0.000</td> <td>    0.014</td> <td>    0.021</td>\n",
       "</tr>\n",
       "<tr>\n",
       "  <th>x8</th>  <td>   -0.0621</td> <td>    0.003</td> <td>  -24.162</td> <td> 0.000</td> <td>   -0.067</td> <td>   -0.057</td>\n",
       "</tr>\n",
       "<tr>\n",
       "  <th>x9</th>  <td>   -0.0398</td> <td>    0.003</td> <td>  -14.671</td> <td> 0.000</td> <td>   -0.045</td> <td>   -0.035</td>\n",
       "</tr>\n",
       "<tr>\n",
       "  <th>x10</th> <td>    0.1426</td> <td>    0.003</td> <td>   53.104</td> <td> 0.000</td> <td>    0.137</td> <td>    0.148</td>\n",
       "</tr>\n",
       "<tr>\n",
       "  <th>x11</th> <td>    0.0437</td> <td>    0.002</td> <td>   21.366</td> <td> 0.000</td> <td>    0.040</td> <td>    0.048</td>\n",
       "</tr>\n",
       "<tr>\n",
       "  <th>x12</th> <td>   -0.0461</td> <td>    0.002</td> <td>  -22.778</td> <td> 0.000</td> <td>   -0.050</td> <td>   -0.042</td>\n",
       "</tr>\n",
       "<tr>\n",
       "  <th>x13</th> <td>   -0.0334</td> <td>    0.002</td> <td>  -13.844</td> <td> 0.000</td> <td>   -0.038</td> <td>   -0.029</td>\n",
       "</tr>\n",
       "<tr>\n",
       "  <th>x14</th> <td>-1.649e+10</td> <td> 1.39e+10</td> <td>   -1.188</td> <td> 0.235</td> <td>-4.37e+10</td> <td> 1.07e+10</td>\n",
       "</tr>\n",
       "<tr>\n",
       "  <th>x15</th> <td>-1.756e+10</td> <td> 1.48e+10</td> <td>   -1.188</td> <td> 0.235</td> <td>-4.65e+10</td> <td> 1.14e+10</td>\n",
       "</tr>\n",
       "<tr>\n",
       "  <th>x16</th> <td>    0.0003</td> <td>    0.002</td> <td>    0.121</td> <td> 0.904</td> <td>   -0.004</td> <td>    0.005</td>\n",
       "</tr>\n",
       "<tr>\n",
       "  <th>x17</th> <td>   -0.0600</td> <td>    0.002</td> <td>  -25.142</td> <td> 0.000</td> <td>   -0.065</td> <td>   -0.055</td>\n",
       "</tr>\n",
       "<tr>\n",
       "  <th>x18</th> <td>   -0.0399</td> <td>    0.002</td> <td>  -16.638</td> <td> 0.000</td> <td>   -0.045</td> <td>   -0.035</td>\n",
       "</tr>\n",
       "<tr>\n",
       "  <th>x19</th> <td>    0.0062</td> <td>    0.002</td> <td>    2.512</td> <td> 0.012</td> <td>    0.001</td> <td>    0.011</td>\n",
       "</tr>\n",
       "<tr>\n",
       "  <th>x20</th> <td>    0.0501</td> <td>    0.003</td> <td>   19.811</td> <td> 0.000</td> <td>    0.045</td> <td>    0.055</td>\n",
       "</tr>\n",
       "<tr>\n",
       "  <th>x21</th> <td>    0.0230</td> <td>    0.003</td> <td>    8.869</td> <td> 0.000</td> <td>    0.018</td> <td>    0.028</td>\n",
       "</tr>\n",
       "<tr>\n",
       "  <th>x22</th> <td>    0.0427</td> <td>    0.003</td> <td>   16.374</td> <td> 0.000</td> <td>    0.038</td> <td>    0.048</td>\n",
       "</tr>\n",
       "<tr>\n",
       "  <th>x23</th> <td>    0.0421</td> <td>    0.003</td> <td>   16.066</td> <td> 0.000</td> <td>    0.037</td> <td>    0.047</td>\n",
       "</tr>\n",
       "<tr>\n",
       "  <th>x24</th> <td>    0.0308</td> <td>    0.003</td> <td>   11.691</td> <td> 0.000</td> <td>    0.026</td> <td>    0.036</td>\n",
       "</tr>\n",
       "<tr>\n",
       "  <th>x25</th> <td>    0.0576</td> <td>    0.003</td> <td>   21.857</td> <td> 0.000</td> <td>    0.052</td> <td>    0.063</td>\n",
       "</tr>\n",
       "<tr>\n",
       "  <th>x26</th> <td>   -0.0226</td> <td>    0.003</td> <td>   -8.771</td> <td> 0.000</td> <td>   -0.028</td> <td>   -0.018</td>\n",
       "</tr>\n",
       "<tr>\n",
       "  <th>x27</th> <td>    0.0075</td> <td>    0.003</td> <td>    2.882</td> <td> 0.004</td> <td>    0.002</td> <td>    0.013</td>\n",
       "</tr>\n",
       "<tr>\n",
       "  <th>x28</th> <td>    0.0299</td> <td>    0.003</td> <td>   11.616</td> <td> 0.000</td> <td>    0.025</td> <td>    0.035</td>\n",
       "</tr>\n",
       "<tr>\n",
       "  <th>x29</th> <td>    0.0539</td> <td>    0.003</td> <td>   17.560</td> <td> 0.000</td> <td>    0.048</td> <td>    0.060</td>\n",
       "</tr>\n",
       "</table>\n",
       "<table class=\"simpletable\">\n",
       "<tr>\n",
       "  <th>Omnibus:</th>       <td>194935.652</td> <th>  Durbin-Watson:     </th> <td>   1.997</td> \n",
       "</tr>\n",
       "<tr>\n",
       "  <th>Prob(Omnibus):</th>   <td> 0.000</td>   <th>  Jarque-Bera (JB):  </th> <td>37673.820</td>\n",
       "</tr>\n",
       "<tr>\n",
       "  <th>Skew:</th>            <td> 0.689</td>   <th>  Prob(JB):          </th> <td>    0.00</td> \n",
       "</tr>\n",
       "<tr>\n",
       "  <th>Kurtosis:</th>        <td> 1.840</td>   <th>  Cond. No.          </th> <td>2.19e+13</td> \n",
       "</tr>\n",
       "</table><br/><br/>Warnings:<br/>[1] Standard Errors assume that the covariance matrix of the errors is correctly specified.<br/>[2] The smallest eigenvalue is 1.24e-21. This might indicate that there are<br/>strong multicollinearity problems or that the design matrix is singular."
      ],
      "text/plain": [
       "<class 'statsmodels.iolib.summary.Summary'>\n",
       "\"\"\"\n",
       "                                 OLS Regression Results                                \n",
       "=======================================================================================\n",
       "Dep. Variable:                      y   R-squared (uncentered):                   0.057\n",
       "Model:                            OLS   Adj. R-squared (uncentered):              0.057\n",
       "Method:                 Least Squares   F-statistic:                              578.7\n",
       "Date:                Thu, 23 Jan 2020   Prob (F-statistic):                        0.00\n",
       "Time:                        21:08:20   Log-Likelihood:                     -3.8708e+05\n",
       "No. Observations:              278541   AIC:                                  7.742e+05\n",
       "Df Residuals:                  278512   BIC:                                  7.745e+05\n",
       "Df Model:                          29                                                  \n",
       "Covariance Type:            nonrobust                                                  \n",
       "==============================================================================\n",
       "                 coef    std err          t      P>|t|      [0.025      0.975]\n",
       "------------------------------------------------------------------------------\n",
       "x1          2.216e+10   1.87e+10      1.188      0.235   -1.44e+10    5.87e+10\n",
       "x2             0.1310      0.002     70.739      0.000       0.127       0.135\n",
       "x3            -0.0080      0.002     -3.400      0.001      -0.013      -0.003\n",
       "x4             0.0169      0.002      8.357      0.000       0.013       0.021\n",
       "x5             0.0107      0.002      4.505      0.000       0.006       0.015\n",
       "x6             0.0349      0.002     18.507      0.000       0.031       0.039\n",
       "x7             0.0173      0.002      9.168      0.000       0.014       0.021\n",
       "x8            -0.0621      0.003    -24.162      0.000      -0.067      -0.057\n",
       "x9            -0.0398      0.003    -14.671      0.000      -0.045      -0.035\n",
       "x10            0.1426      0.003     53.104      0.000       0.137       0.148\n",
       "x11            0.0437      0.002     21.366      0.000       0.040       0.048\n",
       "x12           -0.0461      0.002    -22.778      0.000      -0.050      -0.042\n",
       "x13           -0.0334      0.002    -13.844      0.000      -0.038      -0.029\n",
       "x14        -1.649e+10   1.39e+10     -1.188      0.235   -4.37e+10    1.07e+10\n",
       "x15        -1.756e+10   1.48e+10     -1.188      0.235   -4.65e+10    1.14e+10\n",
       "x16            0.0003      0.002      0.121      0.904      -0.004       0.005\n",
       "x17           -0.0600      0.002    -25.142      0.000      -0.065      -0.055\n",
       "x18           -0.0399      0.002    -16.638      0.000      -0.045      -0.035\n",
       "x19            0.0062      0.002      2.512      0.012       0.001       0.011\n",
       "x20            0.0501      0.003     19.811      0.000       0.045       0.055\n",
       "x21            0.0230      0.003      8.869      0.000       0.018       0.028\n",
       "x22            0.0427      0.003     16.374      0.000       0.038       0.048\n",
       "x23            0.0421      0.003     16.066      0.000       0.037       0.047\n",
       "x24            0.0308      0.003     11.691      0.000       0.026       0.036\n",
       "x25            0.0576      0.003     21.857      0.000       0.052       0.063\n",
       "x26           -0.0226      0.003     -8.771      0.000      -0.028      -0.018\n",
       "x27            0.0075      0.003      2.882      0.004       0.002       0.013\n",
       "x28            0.0299      0.003     11.616      0.000       0.025       0.035\n",
       "x29            0.0539      0.003     17.560      0.000       0.048       0.060\n",
       "==============================================================================\n",
       "Omnibus:                   194935.652   Durbin-Watson:                   1.997\n",
       "Prob(Omnibus):                  0.000   Jarque-Bera (JB):            37673.820\n",
       "Skew:                           0.689   Prob(JB):                         0.00\n",
       "Kurtosis:                       1.840   Cond. No.                     2.19e+13\n",
       "==============================================================================\n",
       "\n",
       "Warnings:\n",
       "[1] Standard Errors assume that the covariance matrix of the errors is correctly specified.\n",
       "[2] The smallest eigenvalue is 1.24e-21. This might indicate that there are\n",
       "strong multicollinearity problems or that the design matrix is singular.\n",
       "\"\"\""
      ]
     },
     "execution_count": 31,
     "metadata": {},
     "output_type": "execute_result"
    }
   ],
   "source": [
    "# OLS with scaled features and target\n",
    "model = sm.OLS(y_t,X_tr)\n",
    "fit = model.fit()\n",
    "fit.summary()\n"
   ]
  },
  {
   "cell_type": "markdown",
   "metadata": {},
   "source": [
    "## Tuning Alpha"
   ]
  },
  {
   "cell_type": "code",
   "execution_count": null,
   "metadata": {},
   "outputs": [],
   "source": [
    "alphalist = 10**(np.linspace(-2,2,200))\n",
    "err_vec_val = np.zeros(len(alphalist))\n",
    "err_vec_train = np.zeros(len(alphalist))\n",
    "\n",
    "for i,curr_alpha in enumerate(alphalist):\n",
    "\n",
    "    # note the use of a new sklearn utility: Pipeline to pack\n",
    "    # multiple modeling steps into one fitting process \n",
    "    steps = [('standardize', StandardScaler()), \n",
    "             ('lasso', Lasso(alpha = curr_alpha))]\n",
    "\n",
    "    pipe = Pipeline(steps)\n",
    "    pipe.fit(X_train.loc[:,selected_columns].values, y_train)\n",
    "    \n",
    "    val_set_pred = pipe.predict(X_val.loc[:,selected_columns].values)\n",
    "    err_vec_val[i] = mae(y_val, val_set_pred)"
   ]
  },
  {
   "cell_type": "code",
   "execution_count": 67,
   "metadata": {},
   "outputs": [
    {
     "data": {
      "text/plain": [
       "[<matplotlib.lines.Line2D at 0x23457cc190>]"
      ]
     },
     "execution_count": 67,
     "metadata": {},
     "output_type": "execute_result"
    },
    {
     "data": {
      "image/png": "[encoded data removed]",
      "text/plain": [
       "<Figure size 432x288 with 1 Axes>"
      ]
     },
     "metadata": {
      "needs_background": "light"
     },
     "output_type": "display_data"
    }
   ],
   "source": [
    "#plot the curve of validation error as alpha changes\n",
    "\n",
    "plt.plot(np.log10(alphalist), err_vec_val)"
   ]
  },
  {
   "cell_type": "code",
   "execution_count": 68,
   "metadata": {},
   "outputs": [
    {
     "data": {
      "text/plain": [
       "17.76412949449943"
      ]
     },
     "execution_count": 68,
     "metadata": {},
     "output_type": "execute_result"
    }
   ],
   "source": [
    "## This is the minimum error achieved on the validation set \n",
    "## across the different alpha values we tried\n",
    "\n",
    "np.min(err_vec_val)"
   ]
  },
  {
   "cell_type": "code",
   "execution_count": 69,
   "metadata": {},
   "outputs": [
    {
     "data": {
      "text/plain": [
       "0.01"
      ]
     },
     "execution_count": 69,
     "metadata": {},
     "output_type": "execute_result"
    }
   ],
   "source": [
    "## This is the value of alpha that gave us the lowest error\n",
    "alphalist[np.argmin(err_vec_val)]"
   ]
  },
  {
   "cell_type": "markdown",
   "metadata": {},
   "source": [
    "## Automated Regularization Strength Tuning via Cross-validation "
   ]
  },
  {
   "cell_type": "code",
   "execution_count": 32,
   "metadata": {},
   "outputs": [
    {
     "data": {
      "text/plain": [
       "StandardScaler(copy=True, with_mean=True, with_std=True)"
      ]
     },
     "execution_count": 32,
     "metadata": {},
     "output_type": "execute_result"
    }
   ],
   "source": [
    "## Scale the data as before\n",
    "std = StandardScaler()\n",
    "std.fit(X_train.values)\n",
    "std.fit(X_test.values)\n"
   ]
  },
  {
   "cell_type": "code",
   "execution_count": 33,
   "metadata": {},
   "outputs": [],
   "source": [
    "## Scale the Predictors on both the train and test set\n",
    "X_tr = std.transform(X_train.values)\n",
    "X_te = std.transform(X_test.values)\n"
   ]
  },
  {
   "cell_type": "code",
   "execution_count": 34,
   "metadata": {},
   "outputs": [
    {
     "data": {
      "text/plain": [
       "LassoCV(alphas=array([1.00000000e-02, 1.04737090e-02, 1.09698580e-02, 1.14895100e-02,\n",
       "       1.20337784e-02, 1.26038293e-02, 1.32008840e-02, 1.38262217e-02,\n",
       "       1.44811823e-02, 1.51671689e-02, 1.58856513e-02, 1.66381689e-02,\n",
       "       1.74263339e-02, 1.82518349e-02, 1.91164408e-02, 2.00220037e-02,\n",
       "       2.09704640e-02, 2.19638537e-02, 2.30043012e-02, 2.40940356e-02,\n",
       "       2.52353917e-02, 2.64308149e-0...\n",
       "       6.01027678e+01, 6.29498899e+01, 6.59318827e+01, 6.90551352e+01,\n",
       "       7.23263390e+01, 7.57525026e+01, 7.93409667e+01, 8.30994195e+01,\n",
       "       8.70359136e+01, 9.11588830e+01, 9.54771611e+01, 1.00000000e+02]),\n",
       "        copy_X=True, cv=5, eps=0.001, fit_intercept=True, max_iter=1000,\n",
       "        n_alphas=100, n_jobs=None, normalize=False, positive=False,\n",
       "        precompute='auto', random_state=None, selection='cyclic', tol=0.0001,\n",
       "        verbose=False)"
      ]
     },
     "execution_count": 34,
     "metadata": {},
     "output_type": "execute_result"
    }
   ],
   "source": [
    "# Run the cross validation, find the best alpha, refit the model on all the data with that alpha\n",
    "\n",
    "alphavec = 10**np.linspace(-2,2,200)\n",
    "\n",
    "lasso_model = LassoCV(alphas = alphavec, cv=5)\n",
    "lasso_model.fit(X_tr, y_train)\n"
   ]
  },
  {
   "cell_type": "code",
   "execution_count": 35,
   "metadata": {},
   "outputs": [
    {
     "data": {
      "text/plain": [
       "0.01"
      ]
     },
     "execution_count": 35,
     "metadata": {},
     "output_type": "execute_result"
    }
   ],
   "source": [
    "# This is the best alpha value it found - not far from the value\n",
    "# selected using simple validation\n",
    "lasso_model.alpha_"
   ]
  },
  {
   "cell_type": "markdown",
   "metadata": {},
   "source": [
    "# Good Coefficients to Use"
   ]
  },
  {
   "cell_type": "code",
   "execution_count": 36,
   "metadata": {},
   "outputs": [
    {
     "data": {
      "text/plain": [
       "[('weekend', -1.1463311456182927),\n",
       " ('hour', 3.172558045445205),\n",
       " ('carrier_AS', -0.6767626002806237),\n",
       " ('carrier_B6', 0.540114747975803),\n",
       " ('carrier_DL', -0.3743508332410027),\n",
       " ('carrier_F9', 1.2501784079905558),\n",
       " ('carrier_HA', 0.2580674591229181),\n",
       " ('carrier_OO', -0.11123636980641466),\n",
       " ('carrier_UA', -0.6550389237708555),\n",
       " ('carrier_WN', 1.039699585630471),\n",
       " ('origin_SFO', 1.7589455655487283),\n",
       " ('origin_SJC', -0.8136533325191333),\n",
       " ('weekday_name_Monday', -0.7783435386873836),\n",
       " ('weekday_name_Saturday', -0.5052402446459741),\n",
       " ('weekday_name_Sunday', -0.0),\n",
       " ('weekday_name_Thursday', -0.06794725105285919),\n",
       " ('weekday_name_Tuesday', -1.2431920128592875),\n",
       " ('weekday_name_Wednesday', -1.036706723175291),\n",
       " ('month_2', -0.19179803458340364),\n",
       " ('month_3', 0.9429105293742419),\n",
       " ('month_4', 0.2678086124894208),\n",
       " ('month_5', 0.6824156929545784),\n",
       " ('month_6', 0.49956021942903944),\n",
       " ('month_7', 0.4936113445893255),\n",
       " ('month_8', 1.5388148389912644),\n",
       " ('month_9', -0.6655980528684842),\n",
       " ('month_10', -0.05452876594549464),\n",
       " ('month_11', 0.5526476245947746),\n",
       " ('month_12', 0.7310511613708448)]"
      ]
     },
     "execution_count": 36,
     "metadata": {},
     "output_type": "execute_result"
    }
   ],
   "source": [
    "# These are the (standardized) coefficients found\n",
    "# when it refit using that best alpha\n",
    "list(zip(X_train.columns, lasso_model.coef_))"
   ]
  },
  {
   "cell_type": "code",
   "execution_count": 37,
   "metadata": {},
   "outputs": [],
   "source": [
    "# Make predictions on the test set using the new model\n",
    "train_set_pred3 = lasso_model.predict(X_tr)\n",
    "test_set_pred = lasso_model.predict(X_te)\n"
   ]
  },
  {
   "cell_type": "code",
   "execution_count": 55,
   "metadata": {},
   "outputs": [
    {
     "data": {
      "text/plain": [
       "[<matplotlib.lines.Line2D at 0x233514a5d0>]"
      ]
     },
     "execution_count": 55,
     "metadata": {},
     "output_type": "execute_result"
    },
    {
     "data": {
      "image/png": "[encoded data removed]",
      "text/plain": [
       "<Figure size 432x288 with 1 Axes>"
      ]
     },
     "metadata": {
      "needs_background": "light"
     },
     "output_type": "display_data"
    }
   ],
   "source": [
    "plt.scatter(test_set_pred, y_test, alpha=.1)\n",
    "plt.plot(np.linspace(0,25,40), np.linspace(0,25,40))\n",
    "\n"
   ]
  },
  {
   "cell_type": "code",
   "execution_count": 109,
   "metadata": {},
   "outputs": [
    {
     "data": {
      "text/plain": [
       "[<matplotlib.lines.Line2D at 0x2365bb2390>]"
      ]
     },
     "execution_count": 109,
     "metadata": {},
     "output_type": "execute_result"
    },
    {
     "data": {
      "image/png": "[encoded data removed]",
      "text/plain": [
       "<Figure size 432x288 with 1 Axes>"
      ]
     },
     "metadata": {},
     "output_type": "display_data"
    }
   ],
   "source": [
    "train_set_pred3 = lasso_model.predict(X_tr)\n",
    "plt.scatter(train_set_pred3, y_train, alpha=.1)\n",
    "plt.plot(np.linspace(0,25,40), np.linspace(0,25,40))\n"
   ]
  },
  {
   "cell_type": "code",
   "execution_count": 54,
   "metadata": {},
   "outputs": [
    {
     "data": {
      "text/plain": [
       "17.69006347198596"
      ]
     },
     "execution_count": 54,
     "metadata": {},
     "output_type": "execute_result"
    }
   ],
   "source": [
    "# Find the MAE and R^2 on the test set using this model\n",
    "mae(y_test, test_set_pred)"
   ]
  },
  {
   "cell_type": "code",
   "execution_count": 58,
   "metadata": {},
   "outputs": [
    {
     "data": {
      "text/plain": [
       "0.013788093511288402"
      ]
     },
     "execution_count": 58,
     "metadata": {},
     "output_type": "execute_result"
    }
   ],
   "source": [
    "r2_score(y_test, test_set_pred)"
   ]
  },
  {
   "cell_type": "markdown",
   "metadata": {},
   "source": [
    "# Cross Validation KFold"
   ]
  },
  {
   "cell_type": "code",
   "execution_count": 41,
   "metadata": {},
   "outputs": [
    {
     "data": {
      "text/plain": [
       "array([0.01490037, 0.01486013, 0.016896  , 0.01548987, 0.01731697])"
      ]
     },
     "execution_count": 41,
     "metadata": {},
     "output_type": "execute_result"
    }
   ],
   "source": [
    "from sklearn.model_selection import KFold\n",
    "from sklearn.model_selection import cross_val_score\n",
    "lm = LinearRegression()\n",
    "lm_reg = Ridge(alpha=1)\n",
    "cross_val_score(lm, X_train, y_train, # estimator, features, target\n",
    "                cv=5, # number of folds \n",
    "                scoring='r2') # scoring metric\n",
    "\n",
    "kf = KFold(n_splits=5, shuffle=True, random_state = 71)\n",
    "cross_val_score(lm, X_tr, y_train, cv=kf, scoring='r2')"
   ]
  },
  {
   "cell_type": "code",
   "execution_count": 42,
   "metadata": {},
   "outputs": [
    {
     "name": "stdout",
     "output_type": "stream",
     "text": [
      "0.015220749106862686\n",
      "0.015219696634355562\n"
     ]
    }
   ],
   "source": [
    "kf = KFold(n_splits=5, shuffle=True, random_state = 1000)\n",
    "\n",
    "print(np.mean(cross_val_score(lm, X, y, cv=kf, scoring='r2')))\n",
    "print(np.mean(cross_val_score(lm_reg, X, y, cv=kf, scoring='r2')))"
   ]
  },
  {
   "cell_type": "code",
   "execution_count": 43,
   "metadata": {},
   "outputs": [],
   "source": [
    "# develop OLS with Sklearn\n",
    "#X_pred = noout_df[columns]\n",
    "#y_pred = noout_df.dep_delay\n",
    "lr = LinearRegression()\n",
    "fit = lr.fit(X_tr,y_t)"
   ]
  },
  {
   "cell_type": "code",
   "execution_count": 44,
   "metadata": {},
   "outputs": [
    {
     "data": {
      "text/plain": [
       "0.05683299798000607"
      ]
     },
     "execution_count": 44,
     "metadata": {},
     "output_type": "execute_result"
    }
   ],
   "source": [
    "fit.score(X_tr,y_t)"
   ]
  },
  {
   "cell_type": "markdown",
   "metadata": {},
   "source": [
    "# Residual Plot"
   ]
  },
  {
   "cell_type": "code",
   "execution_count": 60,
   "metadata": {},
   "outputs": [
    {
     "data": {
      "text/plain": [
       "Text(0, 0.5, 'residuals')"
      ]
     },
     "execution_count": 60,
     "metadata": {},
     "output_type": "execute_result"
    },
    {
     "data": {
      "image/png": "[encoded data removed]",
      "text/plain": [
       "<Figure size 432x288 with 1 Axes>"
      ]
     },
     "metadata": {
      "needs_background": "light"
     },
     "output_type": "display_data"
    }
   ],
   "source": [
    "X_tr = std.fit_transform(X_test.values)\n",
    "rgr = LinearRegression()\n",
    "rgr.fit(X_te,y_test)\n",
    "pred = rgr.predict(X_te)\n",
    "test4_set_pred = lasso_model.predict(X_te)\n",
    "res = y_test - pred\n",
    "plt.scatter(pred, res)\n",
    "plt.title(\"Residual plot\")\n",
    "plt.xlabel(\"Prediction\")\n",
    "plt.ylabel(\"Residuals\")\n",
    "    \n",
    "    "
   ]
  },
  {
   "cell_type": "code",
   "execution_count": 64,
   "metadata": {},
   "outputs": [
    {
     "name": "stdout",
     "output_type": "stream",
     "text": [
      "Ridge Regression test R^2: 0.014\n"
     ]
    }
   ],
   "source": [
    "scaler = StandardScaler()\n",
    "X_scaled = scaler.fit_transform(X)\n",
    "X_test_scaled = scaler.transform(X_test)\n",
    "\n",
    "lm_reg = Ridge(alpha=.1)\n",
    "lm_reg.fit(X_scaled,y)\n",
    "print(f'Ridge Regression test R^2: {lm_reg.score(X_test_scaled, y_test):.3f}')"
   ]
  },
  {
   "cell_type": "code",
   "execution_count": 65,
   "metadata": {},
   "outputs": [
    {
     "data": {
      "text/plain": [
       "0.014315073614366125"
      ]
     },
     "execution_count": 65,
     "metadata": {},
     "output_type": "execute_result"
    }
   ],
   "source": [
    "# test predictions\n",
    "lr = LinearRegression()\n",
    "fit = lr.fit(X_te,y_test)\n",
    "fit.score(X_te,y_test)"
   ]
  },
  {
   "cell_type": "markdown",
   "metadata": {},
   "source": [
    "# Regression Fit"
   ]
  },
  {
   "cell_type": "code",
   "execution_count": 197,
   "metadata": {},
   "outputs": [
    {
     "data": {
      "image/png": "[encoded data removed]",
      "text/plain": [
       "<Figure size 432x288 with 1 Axes>"
      ]
     },
     "metadata": {},
     "output_type": "display_data"
    }
   ],
   "source": [
    "import seaborn as sns; sns.set(color_codes=True)\n",
    "ax = sns.regplot(x=train_set_pred3, y=y_train)\n"
   ]
  }
 ],
 "metadata": {
  "kernelspec": {
   "display_name": "Python [conda env:metis] *",
   "language": "python",
   "name": "conda-env-metis-py"
  },
  "language_info": {
   "codemirror_mode": {
    "name": "ipython",
    "version": 3
   },
   "file_extension": ".py",
   "mimetype": "text/x-python",
   "name": "python",
   "nbconvert_exporter": "python",
   "pygments_lexer": "ipython3",
   "version": "3.7.4"
  }
 },
 "nbformat": 4,
 "nbformat_minor": 2
}
